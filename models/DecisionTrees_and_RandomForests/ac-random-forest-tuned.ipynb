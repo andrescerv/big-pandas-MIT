{
 "cells": [
  {
   "cell_type": "code",
   "execution_count": 21,
   "id": "ea30220d",
   "metadata": {},
   "outputs": [],
   "source": [
    "# Libraries to help with reading and manipulating data\n",
    "import pandas as pd\n",
    "import numpy as np\n",
    "\n",
    "# Libaries to help with data visualization\n",
    "import matplotlib.pyplot as plt\n",
    "import seaborn as sns\n",
    "\n",
    "# To tune model, get different metric scores, and split data\n",
    "from sklearn.metrics import (\n",
    "    f1_score,\n",
    "    accuracy_score,\n",
    "    recall_score,\n",
    "    precision_score,\n",
    "    confusion_matrix,\n",
    "    roc_auc_score,\n",
    "    plot_confusion_matrix,\n",
    "    classification_report,\n",
    "    precision_recall_curve\n",
    ")\n",
    "from sklearn import metrics\n",
    "\n",
    "from sklearn.model_selection import train_test_split, StratifiedKFold, cross_val_score\n",
    "\n",
    "# To be used for data scaling and one hot encoding\n",
    "from sklearn.preprocessing import StandardScaler, MinMaxScaler, OneHotEncoder\n",
    "\n",
    "# To impute missing values\n",
    "from sklearn.impute import SimpleImputer\n",
    "\n",
    "# To build classification models \n",
    "from sklearn.tree import DecisionTreeClassifier\n",
    "from sklearn.ensemble import RandomForestClassifier\n",
    "from sklearn.linear_model import LogisticRegression\n",
    "\n",
    "# For tuning the model\n",
    "from sklearn.model_selection import GridSearchCV\n",
    "from sklearn.model_selection import RandomizedSearchCV\n",
    "\n",
    "# To supress warnings\n",
    "import warnings\n",
    "warnings.filterwarnings(\"ignore\")"
   ]
  },
  {
   "cell_type": "code",
   "execution_count": 2,
   "id": "d72eeb62",
   "metadata": {},
   "outputs": [
    {
     "name": "stdout",
     "output_type": "stream",
     "text": [
      "(94379, 9)\n",
      "(94379, 17)\n",
      "(35602, 9)\n",
      "(35602, 16)\n"
     ]
    }
   ],
   "source": [
    "# Reading files\n",
    "path = '../../datasets/'\n",
    "\n",
    "travel_train = pd.read_csv(path + 'Traveldata_train.csv')\n",
    "survey_train = pd.read_csv(path + 'Surveydata_train.csv')\n",
    "travel_test = pd.read_csv(path + 'Traveldata_test.csv')\n",
    "survey_test = pd.read_csv(path + 'Surveydata_test.csv')\n",
    "\n",
    "datasets = [travel_train,survey_train,travel_test,survey_test]\n",
    "\n",
    "for df in datasets:\n",
    "    print(df.shape)"
   ]
  },
  {
   "cell_type": "code",
   "execution_count": 3,
   "id": "1f424f43",
   "metadata": {},
   "outputs": [],
   "source": [
    "# UDFs to clean input missing values and creating dummy variables\n",
    "def fill_nas_with_mode(df, col):\n",
    "    mode = df[col].mode().iloc[0]\n",
    "    df[col].fillna(mode, inplace=True)\n",
    "\n",
    "def fill_nas_with_median(df, col):\n",
    "    median = df[col].median()\n",
    "    df[col].fillna(median, inplace=True)\n",
    "    \n",
    "def merge_dfs(travel_df, survey_df):\n",
    "    result_df = travel_df.merge(survey_df, how='outer', on='ID', indicator=True)\n",
    "    return result_df\n",
    "    \n",
    "def cleaning_df(df):\n",
    "    # segregating categorical columns from numerical columns\n",
    "    cat_cols = df.describe(include='object').columns.tolist()\n",
    "    num_cols = df.describe().columns.tolist()\n",
    "    \n",
    "    # filling missing values\n",
    "    for col in cat_cols:\n",
    "        fill_nas_with_mode(df, col)\n",
    "\n",
    "    for col in num_cols:\n",
    "        fill_nas_with_median(df, col)\n",
    "        \n",
    "    # getting dummies\n",
    "    dumm_df = df.drop(columns=['ID','_merge'])\n",
    "    dumm_df = pd.get_dummies(dumm_df, drop_first=True)\n",
    "    \n",
    "    # editing names of dummy columns\n",
    "    dumm_df.columns = dumm_df.columns.str.strip()\n",
    "    dumm_df.columns = dumm_df.columns.str.replace(' ', '_')\n",
    "    \n",
    "    return dumm_df"
   ]
  },
  {
   "cell_type": "code",
   "execution_count": 4,
   "id": "7dddb8d0",
   "metadata": {},
   "outputs": [],
   "source": [
    "test_df = merge_dfs(travel_test,survey_test)\n",
    "train_df = merge_dfs(travel_train,survey_train)"
   ]
  },
  {
   "cell_type": "code",
   "execution_count": 5,
   "id": "5ed36b2a",
   "metadata": {},
   "outputs": [
    {
     "data": {
      "text/html": [
       "<div>\n",
       "<style scoped>\n",
       "    .dataframe tbody tr th:only-of-type {\n",
       "        vertical-align: middle;\n",
       "    }\n",
       "\n",
       "    .dataframe tbody tr th {\n",
       "        vertical-align: top;\n",
       "    }\n",
       "\n",
       "    .dataframe thead th {\n",
       "        text-align: right;\n",
       "    }\n",
       "</style>\n",
       "<table border=\"1\" class=\"dataframe\">\n",
       "  <thead>\n",
       "    <tr style=\"text-align: right;\">\n",
       "      <th></th>\n",
       "      <th>Age</th>\n",
       "      <th>Travel_Distance</th>\n",
       "      <th>Departure_Delay_in_Mins</th>\n",
       "      <th>Arrival_Delay_in_Mins</th>\n",
       "      <th>Gender_Male</th>\n",
       "      <th>Customer_Type_Loyal_Customer</th>\n",
       "      <th>Type_Travel_Personal_Travel</th>\n",
       "      <th>Travel_Class_Eco</th>\n",
       "      <th>Seat_Comfort_Excellent</th>\n",
       "      <th>Seat_Comfort_Extremely_Poor</th>\n",
       "      <th>...</th>\n",
       "      <th>CheckIn_Service_Poor</th>\n",
       "      <th>Cleanliness_Excellent</th>\n",
       "      <th>Cleanliness_Good</th>\n",
       "      <th>Cleanliness_Needs_Improvement</th>\n",
       "      <th>Cleanliness_Poor</th>\n",
       "      <th>Online_Boarding_Excellent</th>\n",
       "      <th>Online_Boarding_Extremely_Poor</th>\n",
       "      <th>Online_Boarding_Good</th>\n",
       "      <th>Online_Boarding_Needs_Improvement</th>\n",
       "      <th>Online_Boarding_Poor</th>\n",
       "    </tr>\n",
       "  </thead>\n",
       "  <tbody>\n",
       "    <tr>\n",
       "      <th>0</th>\n",
       "      <td>36.0</td>\n",
       "      <td>532</td>\n",
       "      <td>0.0</td>\n",
       "      <td>0.0</td>\n",
       "      <td>0</td>\n",
       "      <td>1</td>\n",
       "      <td>0</td>\n",
       "      <td>0</td>\n",
       "      <td>0</td>\n",
       "      <td>0</td>\n",
       "      <td>...</td>\n",
       "      <td>0</td>\n",
       "      <td>1</td>\n",
       "      <td>0</td>\n",
       "      <td>0</td>\n",
       "      <td>0</td>\n",
       "      <td>0</td>\n",
       "      <td>0</td>\n",
       "      <td>0</td>\n",
       "      <td>0</td>\n",
       "      <td>1</td>\n",
       "    </tr>\n",
       "    <tr>\n",
       "      <th>1</th>\n",
       "      <td>21.0</td>\n",
       "      <td>1425</td>\n",
       "      <td>9.0</td>\n",
       "      <td>28.0</td>\n",
       "      <td>0</td>\n",
       "      <td>0</td>\n",
       "      <td>0</td>\n",
       "      <td>0</td>\n",
       "      <td>0</td>\n",
       "      <td>1</td>\n",
       "      <td>...</td>\n",
       "      <td>0</td>\n",
       "      <td>1</td>\n",
       "      <td>0</td>\n",
       "      <td>0</td>\n",
       "      <td>0</td>\n",
       "      <td>0</td>\n",
       "      <td>0</td>\n",
       "      <td>0</td>\n",
       "      <td>0</td>\n",
       "      <td>0</td>\n",
       "    </tr>\n",
       "    <tr>\n",
       "      <th>2</th>\n",
       "      <td>60.0</td>\n",
       "      <td>2832</td>\n",
       "      <td>0.0</td>\n",
       "      <td>0.0</td>\n",
       "      <td>1</td>\n",
       "      <td>1</td>\n",
       "      <td>0</td>\n",
       "      <td>0</td>\n",
       "      <td>1</td>\n",
       "      <td>0</td>\n",
       "      <td>...</td>\n",
       "      <td>0</td>\n",
       "      <td>0</td>\n",
       "      <td>0</td>\n",
       "      <td>1</td>\n",
       "      <td>0</td>\n",
       "      <td>1</td>\n",
       "      <td>0</td>\n",
       "      <td>0</td>\n",
       "      <td>0</td>\n",
       "      <td>0</td>\n",
       "    </tr>\n",
       "    <tr>\n",
       "      <th>3</th>\n",
       "      <td>29.0</td>\n",
       "      <td>1352</td>\n",
       "      <td>0.0</td>\n",
       "      <td>0.0</td>\n",
       "      <td>0</td>\n",
       "      <td>1</td>\n",
       "      <td>1</td>\n",
       "      <td>1</td>\n",
       "      <td>0</td>\n",
       "      <td>0</td>\n",
       "      <td>...</td>\n",
       "      <td>0</td>\n",
       "      <td>1</td>\n",
       "      <td>0</td>\n",
       "      <td>0</td>\n",
       "      <td>0</td>\n",
       "      <td>0</td>\n",
       "      <td>0</td>\n",
       "      <td>0</td>\n",
       "      <td>0</td>\n",
       "      <td>1</td>\n",
       "    </tr>\n",
       "    <tr>\n",
       "      <th>4</th>\n",
       "      <td>18.0</td>\n",
       "      <td>1610</td>\n",
       "      <td>17.0</td>\n",
       "      <td>0.0</td>\n",
       "      <td>1</td>\n",
       "      <td>0</td>\n",
       "      <td>0</td>\n",
       "      <td>0</td>\n",
       "      <td>1</td>\n",
       "      <td>0</td>\n",
       "      <td>...</td>\n",
       "      <td>0</td>\n",
       "      <td>1</td>\n",
       "      <td>0</td>\n",
       "      <td>0</td>\n",
       "      <td>0</td>\n",
       "      <td>1</td>\n",
       "      <td>0</td>\n",
       "      <td>0</td>\n",
       "      <td>0</td>\n",
       "      <td>0</td>\n",
       "    </tr>\n",
       "  </tbody>\n",
       "</table>\n",
       "<p>5 rows × 73 columns</p>\n",
       "</div>"
      ],
      "text/plain": [
       "    Age  Travel_Distance  Departure_Delay_in_Mins  Arrival_Delay_in_Mins  \\\n",
       "0  36.0              532                      0.0                    0.0   \n",
       "1  21.0             1425                      9.0                   28.0   \n",
       "2  60.0             2832                      0.0                    0.0   \n",
       "3  29.0             1352                      0.0                    0.0   \n",
       "4  18.0             1610                     17.0                    0.0   \n",
       "\n",
       "   Gender_Male  Customer_Type_Loyal_Customer  Type_Travel_Personal_Travel  \\\n",
       "0            0                             1                            0   \n",
       "1            0                             0                            0   \n",
       "2            1                             1                            0   \n",
       "3            0                             1                            1   \n",
       "4            1                             0                            0   \n",
       "\n",
       "   Travel_Class_Eco  Seat_Comfort_Excellent  Seat_Comfort_Extremely_Poor  ...  \\\n",
       "0                 0                       0                            0  ...   \n",
       "1                 0                       0                            1  ...   \n",
       "2                 0                       1                            0  ...   \n",
       "3                 1                       0                            0  ...   \n",
       "4                 0                       1                            0  ...   \n",
       "\n",
       "   CheckIn_Service_Poor  Cleanliness_Excellent  Cleanliness_Good  \\\n",
       "0                     0                      1                 0   \n",
       "1                     0                      1                 0   \n",
       "2                     0                      0                 0   \n",
       "3                     0                      1                 0   \n",
       "4                     0                      1                 0   \n",
       "\n",
       "   Cleanliness_Needs_Improvement  Cleanliness_Poor  Online_Boarding_Excellent  \\\n",
       "0                              0                 0                          0   \n",
       "1                              0                 0                          0   \n",
       "2                              1                 0                          1   \n",
       "3                              0                 0                          0   \n",
       "4                              0                 0                          1   \n",
       "\n",
       "   Online_Boarding_Extremely_Poor  Online_Boarding_Good  \\\n",
       "0                               0                     0   \n",
       "1                               0                     0   \n",
       "2                               0                     0   \n",
       "3                               0                     0   \n",
       "4                               0                     0   \n",
       "\n",
       "   Online_Boarding_Needs_Improvement  Online_Boarding_Poor  \n",
       "0                                  0                     1  \n",
       "1                                  0                     0  \n",
       "2                                  0                     0  \n",
       "3                                  0                     1  \n",
       "4                                  0                     0  \n",
       "\n",
       "[5 rows x 73 columns]"
      ]
     },
     "execution_count": 5,
     "metadata": {},
     "output_type": "execute_result"
    }
   ],
   "source": [
    "dumm_test_df = cleaning_df(test_df)\n",
    "dumm_test_df.head()"
   ]
  },
  {
   "cell_type": "code",
   "execution_count": 6,
   "id": "db5f748d",
   "metadata": {},
   "outputs": [
    {
     "data": {
      "text/html": [
       "<div>\n",
       "<style scoped>\n",
       "    .dataframe tbody tr th:only-of-type {\n",
       "        vertical-align: middle;\n",
       "    }\n",
       "\n",
       "    .dataframe tbody tr th {\n",
       "        vertical-align: top;\n",
       "    }\n",
       "\n",
       "    .dataframe thead th {\n",
       "        text-align: right;\n",
       "    }\n",
       "</style>\n",
       "<table border=\"1\" class=\"dataframe\">\n",
       "  <thead>\n",
       "    <tr style=\"text-align: right;\">\n",
       "      <th></th>\n",
       "      <th>Age</th>\n",
       "      <th>Travel_Distance</th>\n",
       "      <th>Departure_Delay_in_Mins</th>\n",
       "      <th>Arrival_Delay_in_Mins</th>\n",
       "      <th>Overall_Experience</th>\n",
       "      <th>Gender_Male</th>\n",
       "      <th>Customer_Type_Loyal_Customer</th>\n",
       "      <th>Type_Travel_Personal_Travel</th>\n",
       "      <th>Travel_Class_Eco</th>\n",
       "      <th>Seat_Comfort_Excellent</th>\n",
       "      <th>...</th>\n",
       "      <th>Cleanliness_Excellent</th>\n",
       "      <th>Cleanliness_Extremely_Poor</th>\n",
       "      <th>Cleanliness_Good</th>\n",
       "      <th>Cleanliness_Needs_Improvement</th>\n",
       "      <th>Cleanliness_Poor</th>\n",
       "      <th>Online_Boarding_Excellent</th>\n",
       "      <th>Online_Boarding_Extremely_Poor</th>\n",
       "      <th>Online_Boarding_Good</th>\n",
       "      <th>Online_Boarding_Needs_Improvement</th>\n",
       "      <th>Online_Boarding_Poor</th>\n",
       "    </tr>\n",
       "  </thead>\n",
       "  <tbody>\n",
       "    <tr>\n",
       "      <th>0</th>\n",
       "      <td>52.0</td>\n",
       "      <td>272</td>\n",
       "      <td>0.0</td>\n",
       "      <td>5.0</td>\n",
       "      <td>0</td>\n",
       "      <td>0</td>\n",
       "      <td>1</td>\n",
       "      <td>0</td>\n",
       "      <td>0</td>\n",
       "      <td>0</td>\n",
       "      <td>...</td>\n",
       "      <td>0</td>\n",
       "      <td>0</td>\n",
       "      <td>0</td>\n",
       "      <td>1</td>\n",
       "      <td>0</td>\n",
       "      <td>0</td>\n",
       "      <td>0</td>\n",
       "      <td>0</td>\n",
       "      <td>0</td>\n",
       "      <td>1</td>\n",
       "    </tr>\n",
       "    <tr>\n",
       "      <th>1</th>\n",
       "      <td>48.0</td>\n",
       "      <td>2200</td>\n",
       "      <td>9.0</td>\n",
       "      <td>0.0</td>\n",
       "      <td>0</td>\n",
       "      <td>1</td>\n",
       "      <td>1</td>\n",
       "      <td>1</td>\n",
       "      <td>1</td>\n",
       "      <td>0</td>\n",
       "      <td>...</td>\n",
       "      <td>0</td>\n",
       "      <td>0</td>\n",
       "      <td>1</td>\n",
       "      <td>0</td>\n",
       "      <td>0</td>\n",
       "      <td>0</td>\n",
       "      <td>0</td>\n",
       "      <td>1</td>\n",
       "      <td>0</td>\n",
       "      <td>0</td>\n",
       "    </tr>\n",
       "    <tr>\n",
       "      <th>2</th>\n",
       "      <td>43.0</td>\n",
       "      <td>1061</td>\n",
       "      <td>77.0</td>\n",
       "      <td>119.0</td>\n",
       "      <td>1</td>\n",
       "      <td>0</td>\n",
       "      <td>1</td>\n",
       "      <td>0</td>\n",
       "      <td>0</td>\n",
       "      <td>0</td>\n",
       "      <td>...</td>\n",
       "      <td>1</td>\n",
       "      <td>0</td>\n",
       "      <td>0</td>\n",
       "      <td>0</td>\n",
       "      <td>0</td>\n",
       "      <td>1</td>\n",
       "      <td>0</td>\n",
       "      <td>0</td>\n",
       "      <td>0</td>\n",
       "      <td>0</td>\n",
       "    </tr>\n",
       "    <tr>\n",
       "      <th>3</th>\n",
       "      <td>44.0</td>\n",
       "      <td>780</td>\n",
       "      <td>13.0</td>\n",
       "      <td>18.0</td>\n",
       "      <td>0</td>\n",
       "      <td>0</td>\n",
       "      <td>1</td>\n",
       "      <td>0</td>\n",
       "      <td>0</td>\n",
       "      <td>0</td>\n",
       "      <td>...</td>\n",
       "      <td>0</td>\n",
       "      <td>0</td>\n",
       "      <td>0</td>\n",
       "      <td>0</td>\n",
       "      <td>0</td>\n",
       "      <td>0</td>\n",
       "      <td>0</td>\n",
       "      <td>0</td>\n",
       "      <td>0</td>\n",
       "      <td>0</td>\n",
       "    </tr>\n",
       "    <tr>\n",
       "      <th>4</th>\n",
       "      <td>50.0</td>\n",
       "      <td>1981</td>\n",
       "      <td>0.0</td>\n",
       "      <td>0.0</td>\n",
       "      <td>1</td>\n",
       "      <td>0</td>\n",
       "      <td>1</td>\n",
       "      <td>0</td>\n",
       "      <td>0</td>\n",
       "      <td>0</td>\n",
       "      <td>...</td>\n",
       "      <td>0</td>\n",
       "      <td>0</td>\n",
       "      <td>1</td>\n",
       "      <td>0</td>\n",
       "      <td>0</td>\n",
       "      <td>0</td>\n",
       "      <td>0</td>\n",
       "      <td>1</td>\n",
       "      <td>0</td>\n",
       "      <td>0</td>\n",
       "    </tr>\n",
       "  </tbody>\n",
       "</table>\n",
       "<p>5 rows × 79 columns</p>\n",
       "</div>"
      ],
      "text/plain": [
       "    Age  Travel_Distance  Departure_Delay_in_Mins  Arrival_Delay_in_Mins  \\\n",
       "0  52.0              272                      0.0                    5.0   \n",
       "1  48.0             2200                      9.0                    0.0   \n",
       "2  43.0             1061                     77.0                  119.0   \n",
       "3  44.0              780                     13.0                   18.0   \n",
       "4  50.0             1981                      0.0                    0.0   \n",
       "\n",
       "   Overall_Experience  Gender_Male  Customer_Type_Loyal_Customer  \\\n",
       "0                   0            0                             1   \n",
       "1                   0            1                             1   \n",
       "2                   1            0                             1   \n",
       "3                   0            0                             1   \n",
       "4                   1            0                             1   \n",
       "\n",
       "   Type_Travel_Personal_Travel  Travel_Class_Eco  Seat_Comfort_Excellent  ...  \\\n",
       "0                            0                 0                       0  ...   \n",
       "1                            1                 1                       0  ...   \n",
       "2                            0                 0                       0  ...   \n",
       "3                            0                 0                       0  ...   \n",
       "4                            0                 0                       0  ...   \n",
       "\n",
       "   Cleanliness_Excellent  Cleanliness_Extremely_Poor  Cleanliness_Good  \\\n",
       "0                      0                           0                 0   \n",
       "1                      0                           0                 1   \n",
       "2                      1                           0                 0   \n",
       "3                      0                           0                 0   \n",
       "4                      0                           0                 1   \n",
       "\n",
       "   Cleanliness_Needs_Improvement  Cleanliness_Poor  Online_Boarding_Excellent  \\\n",
       "0                              1                 0                          0   \n",
       "1                              0                 0                          0   \n",
       "2                              0                 0                          1   \n",
       "3                              0                 0                          0   \n",
       "4                              0                 0                          0   \n",
       "\n",
       "   Online_Boarding_Extremely_Poor  Online_Boarding_Good  \\\n",
       "0                               0                     0   \n",
       "1                               0                     1   \n",
       "2                               0                     0   \n",
       "3                               0                     0   \n",
       "4                               0                     1   \n",
       "\n",
       "   Online_Boarding_Needs_Improvement  Online_Boarding_Poor  \n",
       "0                                  0                     1  \n",
       "1                                  0                     0  \n",
       "2                                  0                     0  \n",
       "3                                  0                     0  \n",
       "4                                  0                     0  \n",
       "\n",
       "[5 rows x 79 columns]"
      ]
     },
     "execution_count": 6,
     "metadata": {},
     "output_type": "execute_result"
    }
   ],
   "source": [
    "dumm_train_df = cleaning_df(train_df)\n",
    "dumm_train_df.head()"
   ]
  },
  {
   "cell_type": "code",
   "execution_count": 7,
   "id": "f5a430d3",
   "metadata": {},
   "outputs": [
    {
     "data": {
      "text/plain": [
       "['Cleanliness_Extremely_Poor',\n",
       " 'Online_Support_Extremely_Poor',\n",
       " 'CheckIn_Service_Extremely_Poor',\n",
       " 'Overall_Experience',\n",
       " 'Platform_Location_Very_Inconvenient',\n",
       " 'Onboard_Service_Extremely_Poor']"
      ]
     },
     "execution_count": 7,
     "metadata": {},
     "output_type": "execute_result"
    }
   ],
   "source": [
    "cols_train = set(cleaning_df(train_df).columns.tolist())\n",
    "cols_test = set(cleaning_df(test_df).columns.tolist())\n",
    "missing_cols = list(cols_train - cols_test)\n",
    "missing_cols"
   ]
  },
  {
   "cell_type": "code",
   "execution_count": 8,
   "id": "e048d419",
   "metadata": {},
   "outputs": [],
   "source": [
    "for col in missing_cols:\n",
    "    dumm_test_df[col] = 0"
   ]
  },
  {
   "cell_type": "markdown",
   "id": "4f1c63ab",
   "metadata": {},
   "source": [
    "# Model: Random Forest"
   ]
  },
  {
   "cell_type": "markdown",
   "id": "2dc950d0",
   "metadata": {},
   "source": [
    "* If the frequency of class A is 17% and the frequency of class B is 83%, then class B will become the dominant class and **the random forest will become biased toward the dominant class.**\n",
    "* **class_weight is a hyperparameter** for the RandomForestClassifier. In this case, we can pass a dictionary {0:0.17, 1:0.83} to specify the weight of each class and the random forest will weight each class accordingly."
   ]
  },
  {
   "cell_type": "code",
   "execution_count": 9,
   "id": "f16bff41",
   "metadata": {},
   "outputs": [],
   "source": [
    "X = dumm_train_df.drop(columns='Overall_Experience')\n",
    "y = dumm_train_df['Overall_Experience']"
   ]
  },
  {
   "cell_type": "code",
   "execution_count": 10,
   "id": "5d020373",
   "metadata": {},
   "outputs": [
    {
     "data": {
      "text/plain": [
       "1    0.546658\n",
       "0    0.453342\n",
       "Name: Overall_Experience, dtype: float64"
      ]
     },
     "execution_count": 10,
     "metadata": {},
     "output_type": "execute_result"
    }
   ],
   "source": [
    "y.value_counts(normalize=True)"
   ]
  },
  {
   "cell_type": "code",
   "execution_count": 11,
   "id": "1c708870",
   "metadata": {},
   "outputs": [],
   "source": [
    "# Splitting the data\n",
    "X_train, X_test, y_train, y_test = train_test_split(X, y, test_size=0.3, random_state=1, stratify=y)"
   ]
  },
  {
   "cell_type": "code",
   "execution_count": 12,
   "id": "3ad0f5a1",
   "metadata": {},
   "outputs": [
    {
     "data": {
      "text/plain": [
       "RandomForestClassifier(class_weight={0: 0.453, 1: 0.547}, random_state=1)"
      ]
     },
     "execution_count": 12,
     "metadata": {},
     "output_type": "execute_result"
    }
   ],
   "source": [
    "# Fitting the Random Forest classifier on the training data\n",
    "rf_estimator = RandomForestClassifier(class_weight={0: 0.453, 1: 0.547}, random_state=1)\n",
    "\n",
    "rf_estimator.fit(X_train, y_train)"
   ]
  },
  {
   "cell_type": "markdown",
   "id": "c75bc154",
   "metadata": {},
   "source": [
    "## model evaluation"
   ]
  },
  {
   "cell_type": "code",
   "execution_count": 13,
   "id": "5659f1be",
   "metadata": {},
   "outputs": [],
   "source": [
    "# Creating metric function \n",
    "def metrics_score(actual, predicted):\n",
    "    print(classification_report(actual, predicted))\n",
    "\n",
    "    cm = confusion_matrix(actual, predicted)\n",
    "    plt.figure(figsize=(8,5))\n",
    "    \n",
    "    sns.heatmap(cm, annot=True,  fmt='.2f', xticklabels=['Not Attrite', 'Attrite'], yticklabels=['Not Attrite', 'Attrite'])\n",
    "    plt.ylabel('Actual')\n",
    "    plt.xlabel('Predicted')\n",
    "    plt.show()"
   ]
  },
  {
   "cell_type": "code",
   "execution_count": 14,
   "id": "bca5b7ff",
   "metadata": {},
   "outputs": [
    {
     "name": "stdout",
     "output_type": "stream",
     "text": [
      "              precision    recall  f1-score   support\n",
      "\n",
      "           0       1.00      1.00      1.00     29950\n",
      "           1       1.00      1.00      1.00     36115\n",
      "\n",
      "    accuracy                           1.00     66065\n",
      "   macro avg       1.00      1.00      1.00     66065\n",
      "weighted avg       1.00      1.00      1.00     66065\n",
      "\n"
     ]
    },
    {
     "data": {
      "image/png": "[encoded data removed]",
      "text/plain": [
       "<Figure size 576x360 with 2 Axes>"
      ]
     },
     "metadata": {
      "needs_background": "light"
     },
     "output_type": "display_data"
    }
   ],
   "source": [
    "# Checking performance on the training data\n",
    "y_pred_train_rf = rf_estimator.predict(X_train)\n",
    "\n",
    "metrics_score(y_train, y_pred_train_rf)"
   ]
  },
  {
   "cell_type": "code",
   "execution_count": 15,
   "id": "ccaba37b",
   "metadata": {},
   "outputs": [
    {
     "name": "stdout",
     "output_type": "stream",
     "text": [
      "              precision    recall  f1-score   support\n",
      "\n",
      "           0       0.93      0.95      0.94     12836\n",
      "           1       0.96      0.94      0.95     15478\n",
      "\n",
      "    accuracy                           0.95     28314\n",
      "   macro avg       0.95      0.95      0.95     28314\n",
      "weighted avg       0.95      0.95      0.95     28314\n",
      "\n"
     ]
    },
    {
     "data": {
      "image/png": "[encoded data removed]",
      "text/plain": [
       "<Figure size 576x360 with 2 Axes>"
      ]
     },
     "metadata": {
      "needs_background": "light"
     },
     "output_type": "display_data"
    }
   ],
   "source": [
    "# Checking performance on the testing data\n",
    "y_pred_test_rf = rf_estimator.predict(X_test)\n",
    "\n",
    "metrics_score(y_test, y_pred_test_rf)"
   ]
  },
  {
   "cell_type": "markdown",
   "id": "c6accdd3",
   "metadata": {},
   "source": [
    "This random forest presents robust results since we get an accuracy of 95%."
   ]
  },
  {
   "cell_type": "code",
   "execution_count": 16,
   "id": "b59ac95d",
   "metadata": {},
   "outputs": [
    {
     "data": {
      "text/plain": [
       "<AxesSubplot:xlabel='Importance'>"
      ]
     },
     "execution_count": 16,
     "metadata": {},
     "output_type": "execute_result"
    },
    {
     "data": {
      "image/png": "[encoded data removed]",
      "text/plain": [
       "<Figure size 936x936 with 1 Axes>"
      ]
     },
     "metadata": {
      "needs_background": "light"
     },
     "output_type": "display_data"
    }
   ],
   "source": [
    "importances = rf_estimator.feature_importances_\n",
    "\n",
    "columns = X.columns\n",
    "\n",
    "importance_df = pd.DataFrame(importances, index = columns, columns = ['Importance']).sort_values(by = 'Importance', ascending = False)\n",
    "\n",
    "plt.figure(figsize = (13, 13))\n",
    "\n",
    "sns.barplot(importance_df.Importance, importance_df.index)"
   ]
  },
  {
   "cell_type": "markdown",
   "id": "b1270b94",
   "metadata": {},
   "source": [
    "# Fine tuning"
   ]
  },
  {
   "cell_type": "markdown",
   "id": "aa66935c",
   "metadata": {},
   "source": [
    "## Random Search\n"
   ]
  },
  {
   "cell_type": "code",
   "execution_count": 55,
   "id": "2e703c60",
   "metadata": {},
   "outputs": [
    {
     "name": "stdout",
     "output_type": "stream",
     "text": [
      "Fitting 2 folds for each of 10 candidates, totalling 20 fits\n",
      "[CV 1/2; 1/10] START criterion=entropy, max_depth=15, max_features=sqrt, min_samples_leaf=4, n_estimators=400\n",
      "[CV 1/2; 1/10] END criterion=entropy, max_depth=15, max_features=sqrt, min_samples_leaf=4, n_estimators=400;, score=0.930 total time=   8.5s\n",
      "[CV 2/2; 1/10] START criterion=entropy, max_depth=15, max_features=sqrt, min_samples_leaf=4, n_estimators=400\n",
      "[CV 2/2; 1/10] END criterion=entropy, max_depth=15, max_features=sqrt, min_samples_leaf=4, n_estimators=400;, score=0.929 total time=   8.7s\n",
      "[CV 1/2; 2/10] START criterion=entropy, max_depth=30, max_features=sqrt, min_samples_leaf=2, n_estimators=500\n",
      "[CV 1/2; 2/10] END criterion=entropy, max_depth=30, max_features=sqrt, min_samples_leaf=2, n_estimators=500;, score=0.941 total time=  12.6s\n",
      "[CV 2/2; 2/10] START criterion=entropy, max_depth=30, max_features=sqrt, min_samples_leaf=2, n_estimators=500\n",
      "[CV 2/2; 2/10] END criterion=entropy, max_depth=30, max_features=sqrt, min_samples_leaf=2, n_estimators=500;, score=0.940 total time=  12.6s\n",
      "[CV 1/2; 3/10] START criterion=entropy, max_depth=15, max_features=sqrt, min_samples_leaf=2, n_estimators=500\n",
      "[CV 1/2; 3/10] END criterion=entropy, max_depth=15, max_features=sqrt, min_samples_leaf=2, n_estimators=500;, score=0.933 total time=  10.9s\n",
      "[CV 2/2; 3/10] START criterion=entropy, max_depth=15, max_features=sqrt, min_samples_leaf=2, n_estimators=500\n",
      "[CV 2/2; 3/10] END criterion=entropy, max_depth=15, max_features=sqrt, min_samples_leaf=2, n_estimators=500;, score=0.932 total time=  10.8s\n",
      "[CV 1/2; 4/10] START criterion=entropy, max_depth=25, max_features=log2, min_samples_leaf=2, n_estimators=350\n",
      "[CV 1/2; 4/10] END criterion=entropy, max_depth=25, max_features=log2, min_samples_leaf=2, n_estimators=350;, score=0.938 total time=   8.0s\n",
      "[CV 2/2; 4/10] START criterion=entropy, max_depth=25, max_features=log2, min_samples_leaf=2, n_estimators=350\n",
      "[CV 2/2; 4/10] END criterion=entropy, max_depth=25, max_features=log2, min_samples_leaf=2, n_estimators=350;, score=0.937 total time=   8.0s\n",
      "[CV 1/2; 5/10] START criterion=entropy, max_depth=25, max_features=sqrt, min_samples_leaf=4, n_estimators=500\n",
      "[CV 1/2; 5/10] END criterion=entropy, max_depth=25, max_features=sqrt, min_samples_leaf=4, n_estimators=500;, score=0.937 total time=  11.9s\n",
      "[CV 2/2; 5/10] START criterion=entropy, max_depth=25, max_features=sqrt, min_samples_leaf=4, n_estimators=500\n",
      "[CV 2/2; 5/10] END criterion=entropy, max_depth=25, max_features=sqrt, min_samples_leaf=4, n_estimators=500;, score=0.936 total time=  12.0s\n",
      "[CV 1/2; 6/10] START criterion=entropy, max_depth=25, max_features=log2, min_samples_leaf=2, n_estimators=200\n",
      "[CV 1/2; 6/10] END criterion=entropy, max_depth=25, max_features=log2, min_samples_leaf=2, n_estimators=200;, score=0.938 total time=   4.4s\n",
      "[CV 2/2; 6/10] START criterion=entropy, max_depth=25, max_features=log2, min_samples_leaf=2, n_estimators=200\n",
      "[CV 2/2; 6/10] END criterion=entropy, max_depth=25, max_features=log2, min_samples_leaf=2, n_estimators=200;, score=0.937 total time=   4.5s\n",
      "[CV 1/2; 7/10] START criterion=gini, max_depth=10, max_features=log2, min_samples_leaf=1, n_estimators=250\n",
      "[CV 1/2; 7/10] END criterion=gini, max_depth=10, max_features=log2, min_samples_leaf=1, n_estimators=250;, score=0.918 total time=   3.6s\n",
      "[CV 2/2; 7/10] START criterion=gini, max_depth=10, max_features=log2, min_samples_leaf=1, n_estimators=250\n",
      "[CV 2/2; 7/10] END criterion=gini, max_depth=10, max_features=log2, min_samples_leaf=1, n_estimators=250;, score=0.914 total time=   3.5s\n",
      "[CV 1/2; 8/10] START criterion=gini, max_depth=30, max_features=sqrt, min_samples_leaf=2, n_estimators=450\n",
      "[CV 1/2; 8/10] END criterion=gini, max_depth=30, max_features=sqrt, min_samples_leaf=2, n_estimators=450;, score=0.940 total time=  11.0s\n",
      "[CV 2/2; 8/10] START criterion=gini, max_depth=30, max_features=sqrt, min_samples_leaf=2, n_estimators=450\n",
      "[CV 2/2; 8/10] END criterion=gini, max_depth=30, max_features=sqrt, min_samples_leaf=2, n_estimators=450;, score=0.940 total time=  10.9s\n",
      "[CV 1/2; 9/10] START criterion=gini, max_depth=25, max_features=sqrt, min_samples_leaf=1, n_estimators=200\n",
      "[CV 1/2; 9/10] END criterion=gini, max_depth=25, max_features=sqrt, min_samples_leaf=1, n_estimators=200;, score=0.944 total time=   5.1s\n",
      "[CV 2/2; 9/10] START criterion=gini, max_depth=25, max_features=sqrt, min_samples_leaf=1, n_estimators=200\n",
      "[CV 2/2; 9/10] END criterion=gini, max_depth=25, max_features=sqrt, min_samples_leaf=1, n_estimators=200;, score=0.943 total time=   5.0s\n",
      "[CV 1/2; 10/10] START criterion=gini, max_depth=15, max_features=sqrt, min_samples_leaf=2, n_estimators=300\n",
      "[CV 1/2; 10/10] END criterion=gini, max_depth=15, max_features=sqrt, min_samples_leaf=2, n_estimators=300;, score=0.932 total time=   6.3s\n",
      "[CV 2/2; 10/10] START criterion=gini, max_depth=15, max_features=sqrt, min_samples_leaf=2, n_estimators=300\n",
      "[CV 2/2; 10/10] END criterion=gini, max_depth=15, max_features=sqrt, min_samples_leaf=2, n_estimators=300;, score=0.931 total time=   6.3s\n"
     ]
    }
   ],
   "source": [
    "# Choose the type of classifier\n",
    "rf_estimator_tuned = RandomForestClassifier(class_weight={0: 0.453, 1: 0.547}, random_state=1)\n",
    "\n",
    "# Grid of parameters to choose from\n",
    "params_rf = {  \n",
    "        \"n_estimators\": np.arange(200,501,50),\n",
    "        \"criterion\":[\"gini\", \"entropy\"],\n",
    "        \"max_depth\":np.arange(10,31,5),\n",
    "        \"min_samples_leaf\": np.arange(1,5,1),\n",
    "        \"max_features\": [\"sqrt\", \"log2\"],\n",
    "}\n",
    "\n",
    "# Run the grid search\n",
    "grid_obj = RandomizedSearchCV(rf_estimator_tuned, params_rf, scoring='accuracy', random_state=1, verbose=10, cv=2)\n",
    "\n",
    "grid_obj = grid_obj.fit(X_train, y_train)\n",
    "\n",
    "# Set the classifier to the best combination of parameters\n",
    "rf_estimator_tuned = grid_obj.best_estimator_"
   ]
  },
  {
   "cell_type": "code",
   "execution_count": 57,
   "id": "5394cdac",
   "metadata": {},
   "outputs": [
    {
     "name": "stdout",
     "output_type": "stream",
     "text": [
      "Fitting 2 folds for each of 64 candidates, totalling 128 fits\n",
      "[CV 1/2] END criterion=gini, max_depth=20, max_features=sqrt, min_samples_leaf=1, n_estimators=100;, score=0.941 total time=   2.5s\n",
      "[CV 2/2] END criterion=gini, max_depth=20, max_features=sqrt, min_samples_leaf=1, n_estimators=100;, score=0.941 total time=   2.5s\n",
      "[CV 1/2] END criterion=gini, max_depth=20, max_features=sqrt, min_samples_leaf=1, n_estimators=200;, score=0.941 total time=   4.9s\n",
      "[CV 2/2] END criterion=gini, max_depth=20, max_features=sqrt, min_samples_leaf=1, n_estimators=200;, score=0.941 total time=   4.8s\n",
      "[CV 1/2] END criterion=gini, max_depth=20, max_features=sqrt, min_samples_leaf=1, n_estimators=300;, score=0.942 total time=   7.3s\n",
      "[CV 2/2] END criterion=gini, max_depth=20, max_features=sqrt, min_samples_leaf=1, n_estimators=300;, score=0.941 total time=   7.3s\n",
      "[CV 1/2] END criterion=gini, max_depth=20, max_features=sqrt, min_samples_leaf=1, n_estimators=400;, score=0.942 total time=   9.8s\n",
      "[CV 2/2] END criterion=gini, max_depth=20, max_features=sqrt, min_samples_leaf=1, n_estimators=400;, score=0.942 total time=   9.7s\n",
      "[CV 1/2] END criterion=gini, max_depth=20, max_features=sqrt, min_samples_leaf=2, n_estimators=100;, score=0.937 total time=   2.4s\n",
      "[CV 2/2] END criterion=gini, max_depth=20, max_features=sqrt, min_samples_leaf=2, n_estimators=100;, score=0.938 total time=   2.4s\n",
      "[CV 1/2] END criterion=gini, max_depth=20, max_features=sqrt, min_samples_leaf=2, n_estimators=200;, score=0.938 total time=   4.7s\n",
      "[CV 2/2] END criterion=gini, max_depth=20, max_features=sqrt, min_samples_leaf=2, n_estimators=200;, score=0.938 total time=   4.7s\n",
      "[CV 1/2] END criterion=gini, max_depth=20, max_features=sqrt, min_samples_leaf=2, n_estimators=300;, score=0.939 total time=   7.0s\n",
      "[CV 2/2] END criterion=gini, max_depth=20, max_features=sqrt, min_samples_leaf=2, n_estimators=300;, score=0.939 total time=   7.0s\n",
      "[CV 1/2] END criterion=gini, max_depth=20, max_features=sqrt, min_samples_leaf=2, n_estimators=400;, score=0.939 total time=   9.4s\n",
      "[CV 2/2] END criterion=gini, max_depth=20, max_features=sqrt, min_samples_leaf=2, n_estimators=400;, score=0.938 total time=   9.3s\n",
      "[CV 1/2] END criterion=gini, max_depth=20, max_features=log2, min_samples_leaf=1, n_estimators=100;, score=0.940 total time=   2.1s\n",
      "[CV 2/2] END criterion=gini, max_depth=20, max_features=log2, min_samples_leaf=1, n_estimators=100;, score=0.938 total time=   2.1s\n",
      "[CV 1/2] END criterion=gini, max_depth=20, max_features=log2, min_samples_leaf=1, n_estimators=200;, score=0.940 total time=   4.3s\n",
      "[CV 2/2] END criterion=gini, max_depth=20, max_features=log2, min_samples_leaf=1, n_estimators=200;, score=0.938 total time=   4.3s\n",
      "[CV 1/2] END criterion=gini, max_depth=20, max_features=log2, min_samples_leaf=1, n_estimators=300;, score=0.940 total time=   6.4s\n",
      "[CV 2/2] END criterion=gini, max_depth=20, max_features=log2, min_samples_leaf=1, n_estimators=300;, score=0.939 total time=   6.4s\n",
      "[CV 1/2] END criterion=gini, max_depth=20, max_features=log2, min_samples_leaf=1, n_estimators=400;, score=0.939 total time=   8.6s\n",
      "[CV 2/2] END criterion=gini, max_depth=20, max_features=log2, min_samples_leaf=1, n_estimators=400;, score=0.938 total time=   8.5s\n",
      "[CV 1/2] END criterion=gini, max_depth=20, max_features=log2, min_samples_leaf=2, n_estimators=100;, score=0.936 total time=   2.1s\n",
      "[CV 2/2] END criterion=gini, max_depth=20, max_features=log2, min_samples_leaf=2, n_estimators=100;, score=0.935 total time=   2.1s\n",
      "[CV 1/2] END criterion=gini, max_depth=20, max_features=log2, min_samples_leaf=2, n_estimators=200;, score=0.936 total time=   4.1s\n",
      "[CV 2/2] END criterion=gini, max_depth=20, max_features=log2, min_samples_leaf=2, n_estimators=200;, score=0.935 total time=   4.1s\n",
      "[CV 1/2] END criterion=gini, max_depth=20, max_features=log2, min_samples_leaf=2, n_estimators=300;, score=0.936 total time=   6.1s\n",
      "[CV 2/2] END criterion=gini, max_depth=20, max_features=log2, min_samples_leaf=2, n_estimators=300;, score=0.935 total time=   6.1s\n",
      "[CV 1/2] END criterion=gini, max_depth=20, max_features=log2, min_samples_leaf=2, n_estimators=400;, score=0.936 total time=   8.2s\n",
      "[CV 2/2] END criterion=gini, max_depth=20, max_features=log2, min_samples_leaf=2, n_estimators=400;, score=0.935 total time=   8.2s\n",
      "[CV 1/2] END criterion=gini, max_depth=25, max_features=sqrt, min_samples_leaf=1, n_estimators=100;, score=0.943 total time=   2.5s\n",
      "[CV 2/2] END criterion=gini, max_depth=25, max_features=sqrt, min_samples_leaf=1, n_estimators=100;, score=0.942 total time=   2.5s\n",
      "[CV 1/2] END criterion=gini, max_depth=25, max_features=sqrt, min_samples_leaf=1, n_estimators=200;, score=0.944 total time=   5.1s\n",
      "[CV 2/2] END criterion=gini, max_depth=25, max_features=sqrt, min_samples_leaf=1, n_estimators=200;, score=0.943 total time=   5.0s\n",
      "[CV 1/2] END criterion=gini, max_depth=25, max_features=sqrt, min_samples_leaf=1, n_estimators=300;, score=0.943 total time=   7.6s\n",
      "[CV 2/2] END criterion=gini, max_depth=25, max_features=sqrt, min_samples_leaf=1, n_estimators=300;, score=0.943 total time=   7.6s\n",
      "[CV 1/2] END criterion=gini, max_depth=25, max_features=sqrt, min_samples_leaf=1, n_estimators=400;, score=0.943 total time=  10.2s\n",
      "[CV 2/2] END criterion=gini, max_depth=25, max_features=sqrt, min_samples_leaf=1, n_estimators=400;, score=0.943 total time=  10.0s\n",
      "[CV 1/2] END criterion=gini, max_depth=25, max_features=sqrt, min_samples_leaf=2, n_estimators=100;, score=0.939 total time=   2.4s\n",
      "[CV 2/2] END criterion=gini, max_depth=25, max_features=sqrt, min_samples_leaf=2, n_estimators=100;, score=0.939 total time=   2.4s\n",
      "[CV 1/2] END criterion=gini, max_depth=25, max_features=sqrt, min_samples_leaf=2, n_estimators=200;, score=0.940 total time=   4.8s\n",
      "[CV 2/2] END criterion=gini, max_depth=25, max_features=sqrt, min_samples_leaf=2, n_estimators=200;, score=0.940 total time=   4.8s\n",
      "[CV 1/2] END criterion=gini, max_depth=25, max_features=sqrt, min_samples_leaf=2, n_estimators=300;, score=0.940 total time=   7.3s\n",
      "[CV 2/2] END criterion=gini, max_depth=25, max_features=sqrt, min_samples_leaf=2, n_estimators=300;, score=0.940 total time=   7.2s\n",
      "[CV 1/2] END criterion=gini, max_depth=25, max_features=sqrt, min_samples_leaf=2, n_estimators=400;, score=0.940 total time=   9.7s\n",
      "[CV 2/2] END criterion=gini, max_depth=25, max_features=sqrt, min_samples_leaf=2, n_estimators=400;, score=0.940 total time=   9.6s\n",
      "[CV 1/2] END criterion=gini, max_depth=25, max_features=log2, min_samples_leaf=1, n_estimators=100;, score=0.941 total time=   2.3s\n",
      "[CV 2/2] END criterion=gini, max_depth=25, max_features=log2, min_samples_leaf=1, n_estimators=100;, score=0.940 total time=   2.3s\n",
      "[CV 1/2] END criterion=gini, max_depth=25, max_features=log2, min_samples_leaf=1, n_estimators=200;, score=0.941 total time=   4.5s\n",
      "[CV 2/2] END criterion=gini, max_depth=25, max_features=log2, min_samples_leaf=1, n_estimators=200;, score=0.940 total time=   4.5s\n",
      "[CV 1/2] END criterion=gini, max_depth=25, max_features=log2, min_samples_leaf=1, n_estimators=300;, score=0.941 total time=   6.7s\n",
      "[CV 2/2] END criterion=gini, max_depth=25, max_features=log2, min_samples_leaf=1, n_estimators=300;, score=0.940 total time=   6.7s\n",
      "[CV 1/2] END criterion=gini, max_depth=25, max_features=log2, min_samples_leaf=1, n_estimators=400;, score=0.940 total time=   9.0s\n",
      "[CV 2/2] END criterion=gini, max_depth=25, max_features=log2, min_samples_leaf=1, n_estimators=400;, score=0.940 total time=   8.9s\n",
      "[CV 1/2] END criterion=gini, max_depth=25, max_features=log2, min_samples_leaf=2, n_estimators=100;, score=0.937 total time=   2.1s\n",
      "[CV 2/2] END criterion=gini, max_depth=25, max_features=log2, min_samples_leaf=2, n_estimators=100;, score=0.936 total time=   2.1s\n",
      "[CV 1/2] END criterion=gini, max_depth=25, max_features=log2, min_samples_leaf=2, n_estimators=200;, score=0.937 total time=   4.2s\n",
      "[CV 2/2] END criterion=gini, max_depth=25, max_features=log2, min_samples_leaf=2, n_estimators=200;, score=0.937 total time=   4.2s\n",
      "[CV 1/2] END criterion=gini, max_depth=25, max_features=log2, min_samples_leaf=2, n_estimators=300;, score=0.937 total time=   6.3s\n",
      "[CV 2/2] END criterion=gini, max_depth=25, max_features=log2, min_samples_leaf=2, n_estimators=300;, score=0.937 total time=   6.3s\n"
     ]
    },
    {
     "name": "stdout",
     "output_type": "stream",
     "text": [
      "[CV 1/2] END criterion=gini, max_depth=25, max_features=log2, min_samples_leaf=2, n_estimators=400;, score=0.937 total time=   8.5s\n",
      "[CV 2/2] END criterion=gini, max_depth=25, max_features=log2, min_samples_leaf=2, n_estimators=400;, score=0.936 total time=34.9min\n",
      "[CV 1/2] END criterion=gini, max_depth=30, max_features=sqrt, min_samples_leaf=1, n_estimators=100;, score=0.943 total time=   2.6s\n",
      "[CV 2/2] END criterion=gini, max_depth=30, max_features=sqrt, min_samples_leaf=1, n_estimators=100;, score=0.942 total time=   2.6s\n",
      "[CV 1/2] END criterion=gini, max_depth=30, max_features=sqrt, min_samples_leaf=1, n_estimators=200;, score=0.943 total time=17.6min\n",
      "[CV 2/2] END criterion=gini, max_depth=30, max_features=sqrt, min_samples_leaf=1, n_estimators=200;, score=0.943 total time=16.1min\n",
      "[CV 1/2] END criterion=gini, max_depth=30, max_features=sqrt, min_samples_leaf=1, n_estimators=300;, score=0.943 total time= 2.2min\n",
      "[CV 2/2] END criterion=gini, max_depth=30, max_features=sqrt, min_samples_leaf=1, n_estimators=300;, score=0.944 total time=   7.7s\n",
      "[CV 1/2] END criterion=gini, max_depth=30, max_features=sqrt, min_samples_leaf=1, n_estimators=400;, score=0.943 total time=  10.2s\n",
      "[CV 2/2] END criterion=gini, max_depth=30, max_features=sqrt, min_samples_leaf=1, n_estimators=400;, score=0.944 total time=  10.2s\n",
      "[CV 1/2] END criterion=gini, max_depth=30, max_features=sqrt, min_samples_leaf=2, n_estimators=100;, score=0.939 total time=   2.5s\n",
      "[CV 2/2] END criterion=gini, max_depth=30, max_features=sqrt, min_samples_leaf=2, n_estimators=100;, score=0.939 total time=   2.5s\n",
      "[CV 1/2] END criterion=gini, max_depth=30, max_features=sqrt, min_samples_leaf=2, n_estimators=200;, score=0.939 total time=   4.9s\n",
      "[CV 2/2] END criterion=gini, max_depth=30, max_features=sqrt, min_samples_leaf=2, n_estimators=200;, score=0.939 total time=   4.9s\n",
      "[CV 1/2] END criterion=gini, max_depth=30, max_features=sqrt, min_samples_leaf=2, n_estimators=300;, score=0.939 total time=   7.3s\n",
      "[CV 2/2] END criterion=gini, max_depth=30, max_features=sqrt, min_samples_leaf=2, n_estimators=300;, score=0.940 total time=   7.4s\n",
      "[CV 1/2] END criterion=gini, max_depth=30, max_features=sqrt, min_samples_leaf=2, n_estimators=400;, score=0.939 total time=   9.8s\n",
      "[CV 2/2] END criterion=gini, max_depth=30, max_features=sqrt, min_samples_leaf=2, n_estimators=400;, score=0.940 total time=   9.7s\n",
      "[CV 1/2] END criterion=gini, max_depth=30, max_features=log2, min_samples_leaf=1, n_estimators=100;, score=0.941 total time=   2.3s\n",
      "[CV 2/2] END criterion=gini, max_depth=30, max_features=log2, min_samples_leaf=1, n_estimators=100;, score=0.940 total time=   2.3s\n",
      "[CV 1/2] END criterion=gini, max_depth=30, max_features=log2, min_samples_leaf=1, n_estimators=200;, score=0.941 total time=   4.6s\n",
      "[CV 2/2] END criterion=gini, max_depth=30, max_features=log2, min_samples_leaf=1, n_estimators=200;, score=0.940 total time=   4.6s\n",
      "[CV 1/2] END criterion=gini, max_depth=30, max_features=log2, min_samples_leaf=1, n_estimators=300;, score=0.941 total time=   6.9s\n",
      "[CV 2/2] END criterion=gini, max_depth=30, max_features=log2, min_samples_leaf=1, n_estimators=300;, score=0.941 total time=   6.8s\n",
      "[CV 1/2] END criterion=gini, max_depth=30, max_features=log2, min_samples_leaf=1, n_estimators=400;, score=0.941 total time=   9.1s\n",
      "[CV 2/2] END criterion=gini, max_depth=30, max_features=log2, min_samples_leaf=1, n_estimators=400;, score=0.940 total time=   9.2s\n",
      "[CV 1/2] END criterion=gini, max_depth=30, max_features=log2, min_samples_leaf=2, n_estimators=100;, score=0.936 total time=   2.1s\n",
      "[CV 2/2] END criterion=gini, max_depth=30, max_features=log2, min_samples_leaf=2, n_estimators=100;, score=0.936 total time=   2.2s\n",
      "[CV 1/2] END criterion=gini, max_depth=30, max_features=log2, min_samples_leaf=2, n_estimators=200;, score=0.936 total time=   4.3s\n",
      "[CV 2/2] END criterion=gini, max_depth=30, max_features=log2, min_samples_leaf=2, n_estimators=200;, score=0.936 total time=   4.3s\n",
      "[CV 1/2] END criterion=gini, max_depth=30, max_features=log2, min_samples_leaf=2, n_estimators=300;, score=0.936 total time=   6.4s\n",
      "[CV 2/2] END criterion=gini, max_depth=30, max_features=log2, min_samples_leaf=2, n_estimators=300;, score=0.937 total time=   6.4s\n",
      "[CV 1/2] END criterion=gini, max_depth=30, max_features=log2, min_samples_leaf=2, n_estimators=400;, score=0.937 total time=   8.5s\n",
      "[CV 2/2] END criterion=gini, max_depth=30, max_features=log2, min_samples_leaf=2, n_estimators=400;, score=0.936 total time=   8.5s\n",
      "[CV 1/2] END criterion=gini, max_depth=35, max_features=sqrt, min_samples_leaf=1, n_estimators=100;, score=0.943 total time=   2.6s\n",
      "[CV 2/2] END criterion=gini, max_depth=35, max_features=sqrt, min_samples_leaf=1, n_estimators=100;, score=0.943 total time=   2.6s\n",
      "[CV 1/2] END criterion=gini, max_depth=35, max_features=sqrt, min_samples_leaf=1, n_estimators=200;, score=0.944 total time=   5.1s\n",
      "[CV 2/2] END criterion=gini, max_depth=35, max_features=sqrt, min_samples_leaf=1, n_estimators=200;, score=0.943 total time=   5.1s\n",
      "[CV 1/2] END criterion=gini, max_depth=35, max_features=sqrt, min_samples_leaf=1, n_estimators=300;, score=0.944 total time=   7.6s\n",
      "[CV 2/2] END criterion=gini, max_depth=35, max_features=sqrt, min_samples_leaf=1, n_estimators=300;, score=0.943 total time=   7.6s\n",
      "[CV 1/2] END criterion=gini, max_depth=35, max_features=sqrt, min_samples_leaf=1, n_estimators=400;, score=0.944 total time=  10.1s\n",
      "[CV 2/2] END criterion=gini, max_depth=35, max_features=sqrt, min_samples_leaf=1, n_estimators=400;, score=0.943 total time=  10.1s\n",
      "[CV 1/2] END criterion=gini, max_depth=35, max_features=sqrt, min_samples_leaf=2, n_estimators=100;, score=0.939 total time=   2.5s\n",
      "[CV 2/2] END criterion=gini, max_depth=35, max_features=sqrt, min_samples_leaf=2, n_estimators=100;, score=0.939 total time=   2.5s\n",
      "[CV 1/2] END criterion=gini, max_depth=35, max_features=sqrt, min_samples_leaf=2, n_estimators=200;, score=0.940 total time=   4.9s\n",
      "[CV 2/2] END criterion=gini, max_depth=35, max_features=sqrt, min_samples_leaf=2, n_estimators=200;, score=0.940 total time=   4.9s\n",
      "[CV 1/2] END criterion=gini, max_depth=35, max_features=sqrt, min_samples_leaf=2, n_estimators=300;, score=0.939 total time=   7.3s\n",
      "[CV 2/2] END criterion=gini, max_depth=35, max_features=sqrt, min_samples_leaf=2, n_estimators=300;, score=0.940 total time=   7.3s\n",
      "[CV 1/2] END criterion=gini, max_depth=35, max_features=sqrt, min_samples_leaf=2, n_estimators=400;, score=0.939 total time=   9.7s\n",
      "[CV 2/2] END criterion=gini, max_depth=35, max_features=sqrt, min_samples_leaf=2, n_estimators=400;, score=0.940 total time=   9.6s\n",
      "[CV 1/2] END criterion=gini, max_depth=35, max_features=log2, min_samples_leaf=1, n_estimators=100;, score=0.940 total time=   2.3s\n",
      "[CV 2/2] END criterion=gini, max_depth=35, max_features=log2, min_samples_leaf=1, n_estimators=100;, score=0.939 total time=   2.3s\n",
      "[CV 1/2] END criterion=gini, max_depth=35, max_features=log2, min_samples_leaf=1, n_estimators=200;, score=0.941 total time=   4.6s\n",
      "[CV 2/2] END criterion=gini, max_depth=35, max_features=log2, min_samples_leaf=1, n_estimators=200;, score=0.940 total time=   4.6s\n",
      "[CV 1/2] END criterion=gini, max_depth=35, max_features=log2, min_samples_leaf=1, n_estimators=300;, score=0.941 total time=   6.8s\n",
      "[CV 2/2] END criterion=gini, max_depth=35, max_features=log2, min_samples_leaf=1, n_estimators=300;, score=0.941 total time=   6.8s\n",
      "[CV 1/2] END criterion=gini, max_depth=35, max_features=log2, min_samples_leaf=1, n_estimators=400;, score=0.941 total time=   9.2s\n",
      "[CV 2/2] END criterion=gini, max_depth=35, max_features=log2, min_samples_leaf=1, n_estimators=400;, score=0.942 total time=   9.1s\n",
      "[CV 1/2] END criterion=gini, max_depth=35, max_features=log2, min_samples_leaf=2, n_estimators=100;, score=0.937 total time=   2.1s\n",
      "[CV 2/2] END criterion=gini, max_depth=35, max_features=log2, min_samples_leaf=2, n_estimators=100;, score=0.936 total time=   2.1s\n",
      "[CV 1/2] END criterion=gini, max_depth=35, max_features=log2, min_samples_leaf=2, n_estimators=200;, score=0.937 total time=   4.3s\n",
      "[CV 2/2] END criterion=gini, max_depth=35, max_features=log2, min_samples_leaf=2, n_estimators=200;, score=0.937 total time=   4.3s\n",
      "[CV 1/2] END criterion=gini, max_depth=35, max_features=log2, min_samples_leaf=2, n_estimators=300;, score=0.937 total time=   6.4s\n"
     ]
    },
    {
     "name": "stdout",
     "output_type": "stream",
     "text": [
      "[CV 2/2] END criterion=gini, max_depth=35, max_features=log2, min_samples_leaf=2, n_estimators=300;, score=0.937 total time=   6.4s\n",
      "[CV 1/2] END criterion=gini, max_depth=35, max_features=log2, min_samples_leaf=2, n_estimators=400;, score=0.937 total time=   8.5s\n",
      "[CV 2/2] END criterion=gini, max_depth=35, max_features=log2, min_samples_leaf=2, n_estimators=400;, score=0.937 total time=   8.5s\n"
     ]
    }
   ],
   "source": [
    "# Choose the type of classifier\n",
    "rf_estimator_tuned = RandomForestClassifier(class_weight={0: 0.453, 1: 0.547}, random_state=1)\n",
    "\n",
    "# Grid of parameters to choose from\n",
    "params_rf = {  \n",
    "        \"n_estimators\": np.arange(100,401,100),\n",
    "        \"criterion\":[\"gini\"],\n",
    "        \"max_depth\":np.arange(20,36,5),\n",
    "        \"min_samples_leaf\": [1],\n",
    "        \"max_features\": [\"sqrt\", \"log2\"],\n",
    "}\n",
    "\n",
    "\n",
    "# Run the grid search\n",
    "grid_obj = GridSearchCV(rf_estimator_tuned, params_rf, scoring='accuracy', verbose=5, cv=2)\n",
    "\n",
    "grid_obj = grid_obj.fit(X_train, y_train)\n",
    "\n",
    "# Set the classifier to the best combination of parameters\n",
    "rf_estimator_tuned = grid_obj.best_estimator_"
   ]
  },
  {
   "cell_type": "code",
   "execution_count": 58,
   "id": "e5780000",
   "metadata": {},
   "outputs": [
    {
     "data": {
      "text/plain": [
       "RandomForestClassifier(class_weight={0: 0.453, 1: 0.547}, max_depth=35,\n",
       "                       max_features='sqrt', n_estimators=200, random_state=1)"
      ]
     },
     "execution_count": 58,
     "metadata": {},
     "output_type": "execute_result"
    }
   ],
   "source": [
    "rf_estimator_tuned"
   ]
  },
  {
   "cell_type": "code",
   "execution_count": 68,
   "id": "d1fef650",
   "metadata": {},
   "outputs": [
    {
     "data": {
      "text/plain": [
       "RandomForestClassifier(class_weight={0: 0.453, 1: 0.547}, max_depth=35,\n",
       "                       max_features='sqrt', n_estimators=400, random_state=1)"
      ]
     },
     "execution_count": 68,
     "metadata": {},
     "output_type": "execute_result"
    }
   ],
   "source": [
    "rf_estimator_tuned = RandomForestClassifier(class_weight={0: 0.453, 1: 0.547},\n",
    "                                            max_depth=35,\n",
    "                                            max_features='sqrt', \n",
    "                                            n_estimators=400, \n",
    "                                            random_state=1,\n",
    "                                           verbose=10)\n",
    "\n",
    "rf_estimator_tuned.fit(X_train, y_train)"
   ]
  },
  {
   "cell_type": "code",
   "execution_count": 69,
   "id": "cc1789ae",
   "metadata": {},
   "outputs": [
    {
     "name": "stdout",
     "output_type": "stream",
     "text": [
      "              precision    recall  f1-score   support\n",
      "\n",
      "           0       1.00      1.00      1.00     29950\n",
      "           1       1.00      1.00      1.00     36115\n",
      "\n",
      "    accuracy                           1.00     66065\n",
      "   macro avg       1.00      1.00      1.00     66065\n",
      "weighted avg       1.00      1.00      1.00     66065\n",
      "\n"
     ]
    },
    {
     "data": {
      "image/png": "[encoded data removed]",
      "text/plain": [
       "<Figure size 576x360 with 2 Axes>"
      ]
     },
     "metadata": {
      "needs_background": "light"
     },
     "output_type": "display_data"
    }
   ],
   "source": [
    "# Checking performance on the training data\n",
    "y_pred_train_rf_tuned = rf_estimator_tuned.predict(X_train)\n",
    "\n",
    "metrics_score(y_train, y_pred_train_rf_tuned)"
   ]
  },
  {
   "cell_type": "code",
   "execution_count": 70,
   "id": "ebb74444",
   "metadata": {},
   "outputs": [
    {
     "name": "stdout",
     "output_type": "stream",
     "text": [
      "              precision    recall  f1-score   support\n",
      "\n",
      "           0       0.94      0.95      0.94     12836\n",
      "           1       0.96      0.95      0.95     15478\n",
      "\n",
      "    accuracy                           0.95     28314\n",
      "   macro avg       0.95      0.95      0.95     28314\n",
      "weighted avg       0.95      0.95      0.95     28314\n",
      "\n"
     ]
    },
    {
     "data": {
      "image/png": "[encoded data removed]",
      "text/plain": [
       "<Figure size 576x360 with 2 Axes>"
      ]
     },
     "metadata": {
      "needs_background": "light"
     },
     "output_type": "display_data"
    }
   ],
   "source": [
    "# Checking performance on the test data\n",
    "y_pred_test_rf_tuned = rf_estimator_tuned.predict(X_test)\n",
    "\n",
    "metrics_score(y_test, y_pred_test_rf_tuned)"
   ]
  },
  {
   "cell_type": "markdown",
   "id": "ff593f92",
   "metadata": {},
   "source": [
    "# Submission"
   ]
  },
  {
   "cell_type": "code",
   "execution_count": 71,
   "id": "75abaf69",
   "metadata": {},
   "outputs": [],
   "source": [
    "X = dumm_test_df.drop(columns='Overall_Experience')"
   ]
  },
  {
   "cell_type": "code",
   "execution_count": 72,
   "id": "da8351bd",
   "metadata": {},
   "outputs": [],
   "source": [
    "preds = rf_estimator_tuned.predict(X)"
   ]
  },
  {
   "cell_type": "code",
   "execution_count": 73,
   "id": "de62489e",
   "metadata": {},
   "outputs": [
    {
     "data": {
      "text/html": [
       "<div>\n",
       "<style scoped>\n",
       "    .dataframe tbody tr th:only-of-type {\n",
       "        vertical-align: middle;\n",
       "    }\n",
       "\n",
       "    .dataframe tbody tr th {\n",
       "        vertical-align: top;\n",
       "    }\n",
       "\n",
       "    .dataframe thead th {\n",
       "        text-align: right;\n",
       "    }\n",
       "</style>\n",
       "<table border=\"1\" class=\"dataframe\">\n",
       "  <thead>\n",
       "    <tr style=\"text-align: right;\">\n",
       "      <th></th>\n",
       "      <th>Overall_Experience</th>\n",
       "    </tr>\n",
       "    <tr>\n",
       "      <th>ID</th>\n",
       "      <th></th>\n",
       "    </tr>\n",
       "  </thead>\n",
       "  <tbody>\n",
       "    <tr>\n",
       "      <th>99900001</th>\n",
       "      <td>1</td>\n",
       "    </tr>\n",
       "    <tr>\n",
       "      <th>99900002</th>\n",
       "      <td>1</td>\n",
       "    </tr>\n",
       "    <tr>\n",
       "      <th>99900003</th>\n",
       "      <td>1</td>\n",
       "    </tr>\n",
       "    <tr>\n",
       "      <th>99900004</th>\n",
       "      <td>0</td>\n",
       "    </tr>\n",
       "    <tr>\n",
       "      <th>99900005</th>\n",
       "      <td>1</td>\n",
       "    </tr>\n",
       "    <tr>\n",
       "      <th>...</th>\n",
       "      <td>...</td>\n",
       "    </tr>\n",
       "    <tr>\n",
       "      <th>99935598</th>\n",
       "      <td>0</td>\n",
       "    </tr>\n",
       "    <tr>\n",
       "      <th>99935599</th>\n",
       "      <td>0</td>\n",
       "    </tr>\n",
       "    <tr>\n",
       "      <th>99935600</th>\n",
       "      <td>1</td>\n",
       "    </tr>\n",
       "    <tr>\n",
       "      <th>99935601</th>\n",
       "      <td>1</td>\n",
       "    </tr>\n",
       "    <tr>\n",
       "      <th>99935602</th>\n",
       "      <td>0</td>\n",
       "    </tr>\n",
       "  </tbody>\n",
       "</table>\n",
       "<p>35602 rows × 1 columns</p>\n",
       "</div>"
      ],
      "text/plain": [
       "          Overall_Experience\n",
       "ID                          \n",
       "99900001                   1\n",
       "99900002                   1\n",
       "99900003                   1\n",
       "99900004                   0\n",
       "99900005                   1\n",
       "...                      ...\n",
       "99935598                   0\n",
       "99935599                   0\n",
       "99935600                   1\n",
       "99935601                   1\n",
       "99935602                   0\n",
       "\n",
       "[35602 rows x 1 columns]"
      ]
     },
     "execution_count": 73,
     "metadata": {},
     "output_type": "execute_result"
    }
   ],
   "source": [
    "submmission_df = pd.DataFrame(data = preds, \n",
    "                  index = test_df.ID.values, \n",
    "                  columns = ['Overall_Experience'])\n",
    "\n",
    "submmission_df.rename_axis('ID', inplace=True)\n",
    "\n",
    "submmission_df"
   ]
  },
  {
   "cell_type": "code",
   "execution_count": 74,
   "id": "94458f5c",
   "metadata": {},
   "outputs": [],
   "source": [
    "submmission_df.to_csv('submission4.csv')"
   ]
  },
  {
   "cell_type": "code",
   "execution_count": null,
   "id": "1ea4b22d",
   "metadata": {},
   "outputs": [],
   "source": []
  }
 ],
 "metadata": {
  "kernelspec": {
   "display_name": "Python 3 (ipykernel)",
   "language": "python",
   "name": "python3"
  },
  "language_info": {
   "codemirror_mode": {
    "name": "ipython",
    "version": 3
   },
   "file_extension": ".py",
   "mimetype": "text/x-python",
   "name": "python",
   "nbconvert_exporter": "python",
   "pygments_lexer": "ipython3",
   "version": "3.9.12"
  }
 },
 "nbformat": 4,
 "nbformat_minor": 5
}
