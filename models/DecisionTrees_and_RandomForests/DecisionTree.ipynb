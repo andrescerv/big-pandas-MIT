{
 "cells": [
  {
   "cell_type": "markdown",
   "metadata": {
    "colab_type": "text",
    "id": "view-in-github"
   },
   "source": [
    "<a href=\"https://colab.research.google.com/github/nadairshaid/big-pandas-MIT/blob/decision_tree/Copy_of_Decision_Tree_Hackathon.ipynb\" target=\"_parent\"><img src=\"https://colab.research.google.com/assets/colab-badge.svg\" alt=\"Open In Colab\"/></a>"
   ]
  },
  {
   "cell_type": "markdown",
   "metadata": {
    "id": "_5j9HM7i2Lhn"
   },
   "source": [
    "**Importing and Mounting**"
   ]
  },
  {
   "cell_type": "code",
   "execution_count": 1,
   "metadata": {
    "colab": {
     "base_uri": "https://localhost:8080/"
    },
    "id": "eDDxEzmGUeY3",
    "outputId": "b050f66d-ee81-4e4e-9e23-bb689a1b5842"
   },
   "outputs": [
    {
     "ename": "ModuleNotFoundError",
     "evalue": "No module named 'google.colab'",
     "output_type": "error",
     "traceback": [
      "\u001b[0;31m---------------------------------------------------------------------------\u001b[0m",
      "\u001b[0;31mModuleNotFoundError\u001b[0m                       Traceback (most recent call last)",
      "Input \u001b[0;32mIn [1]\u001b[0m, in \u001b[0;36m<cell line: 1>\u001b[0;34m()\u001b[0m\n\u001b[0;32m----> 1\u001b[0m \u001b[38;5;28;01mfrom\u001b[39;00m \u001b[38;5;21;01mgoogle\u001b[39;00m\u001b[38;5;21;01m.\u001b[39;00m\u001b[38;5;21;01mcolab\u001b[39;00m \u001b[38;5;28;01mimport\u001b[39;00m drive\n\u001b[1;32m      2\u001b[0m drive\u001b[38;5;241m.\u001b[39mmount(\u001b[38;5;124m'\u001b[39m\u001b[38;5;124m/content/drive\u001b[39m\u001b[38;5;124m'\u001b[39m)\n",
      "\u001b[0;31mModuleNotFoundError\u001b[0m: No module named 'google.colab'"
     ]
    }
   ],
   "source": [
    "from google.colab import drive\n",
    "drive.mount('/content/drive')\n"
   ]
  },
  {
   "cell_type": "code",
   "execution_count": null,
   "metadata": {
    "id": "4BSKE2LlUiQq"
   },
   "outputs": [],
   "source": [
    "# Libraries to help with reading and manipulating data\n",
    "import pandas as pd\n",
    "import numpy as np\n",
    "\n",
    "# Libaries to help with data visualization\n",
    "import matplotlib.pyplot as plt\n",
    "import seaborn as sns\n",
    "\n",
    "# Removes the limit for the number of displayed columns\n",
    "pd.set_option(\"display.max_columns\", None)\n",
    "# Sets the limit for the number of displayed rows\n",
    "pd.set_option(\"display.max_rows\", 200)\n",
    "# Setting the precision of floating numbers to 5 decimal points\n",
    "pd.set_option(\"display.float_format\", lambda x: \"%.5f\" % x)\n",
    "\n",
    "# To tune model, get different metric scores, and split data\n",
    "from sklearn.metrics import (\n",
    "    f1_score,\n",
    "    accuracy_score,\n",
    "    recall_score,\n",
    "    precision_score,\n",
    "    confusion_matrix,\n",
    "    roc_auc_score,\n",
    "    plot_confusion_matrix,\n",
    "    classification_report,\n",
    "    precision_recall_curve\n",
    ")\n",
    "from sklearn import metrics\n",
    "\n",
    "from sklearn.model_selection import train_test_split, StratifiedKFold, cross_val_score\n",
    "\n",
    "# To be used for data scaling and one hot encoding\n",
    "from sklearn.preprocessing import StandardScaler, MinMaxScaler, OneHotEncoder\n",
    "\n",
    "# To impute missing values\n",
    "from sklearn.impute import SimpleImputer\n",
    "\n",
    "# To help with model building\n",
    "from sklearn.linear_model import LogisticRegression\n",
    "\n",
    "# To build classification models \n",
    "from sklearn.svm import SVC\n",
    "from sklearn.tree import DecisionTreeClassifier\n",
    "from sklearn.ensemble import RandomForestClassifier\n",
    "from sklearn.linear_model import LogisticRegression\n",
    "\n",
    "\n",
    "# For tuning the model\n",
    "from sklearn.model_selection import GridSearchCV\n",
    "\n",
    "# To supress warnings\n",
    "import warnings\n",
    "warnings.filterwarnings(\"ignore\")"
   ]
  },
  {
   "cell_type": "code",
   "execution_count": null,
   "metadata": {
    "id": "4PcheH4uUjW1"
   },
   "outputs": [],
   "source": [
    "#Importing data\n",
    "survey_train = pd.read_csv('/content/drive/MyDrive/MITHackathon/Surveydata_train.csv') \n",
    "survey_test = pd.read_csv('/content/drive/MyDrive/MITHackathon/Surveydata_test.csv') \n",
    "travel_train = pd.read_csv('/content/drive/MyDrive/MITHackathon/Traveldata_train.csv') \n",
    "travel_test = pd.read_csv('/content/drive/MyDrive/MITHackathon/Traveldata_test.csv') \n"
   ]
  },
  {
   "cell_type": "markdown",
   "metadata": {
    "id": "lXvgrc8z2TkY"
   },
   "source": [
    "**Getting Info**"
   ]
  },
  {
   "cell_type": "code",
   "execution_count": null,
   "metadata": {
    "colab": {
     "base_uri": "https://localhost:8080/"
    },
    "id": "c5nS_kFAUjZ9",
    "outputId": "4b5c843a-7379-45ee-c5b7-22e8e7c118ae"
   },
   "outputs": [],
   "source": [
    "survey_train.shape\n"
   ]
  },
  {
   "cell_type": "code",
   "execution_count": null,
   "metadata": {
    "colab": {
     "base_uri": "https://localhost:8080/",
     "height": 322
    },
    "id": "mRDNWlxwYucc",
    "outputId": "f52eebf8-64ca-4879-b211-4b43b8f1c419"
   },
   "outputs": [],
   "source": [
    "survey_train.head()"
   ]
  },
  {
   "cell_type": "code",
   "execution_count": null,
   "metadata": {
    "colab": {
     "base_uri": "https://localhost:8080/",
     "height": 322
    },
    "id": "fKVEMOE9ag4o",
    "outputId": "8abaaf32-a708-40ae-9e6e-4634f0554b9d"
   },
   "outputs": [],
   "source": [
    "survey_train.tail()"
   ]
  },
  {
   "cell_type": "code",
   "execution_count": null,
   "metadata": {
    "colab": {
     "base_uri": "https://localhost:8080/"
    },
    "id": "r6V7Ie1Ra5Qc",
    "outputId": "df634507-d621-4109-c5ba-da7fd13d41b1"
   },
   "outputs": [],
   "source": [
    "survey_train.info()"
   ]
  },
  {
   "cell_type": "code",
   "execution_count": null,
   "metadata": {
    "colab": {
     "base_uri": "https://localhost:8080/"
    },
    "id": "COb_nUAbUjca",
    "outputId": "0da93a26-219e-4117-c632-343581d70ddb"
   },
   "outputs": [],
   "source": [
    "travel_train.shape"
   ]
  },
  {
   "cell_type": "code",
   "execution_count": null,
   "metadata": {
    "colab": {
     "base_uri": "https://localhost:8080/",
     "height": 206
    },
    "id": "qBbXGg2AUje6",
    "outputId": "8fcfa985-695c-4649-c44b-ac1fd46d51b1"
   },
   "outputs": [],
   "source": [
    "travel_train.head()"
   ]
  },
  {
   "cell_type": "code",
   "execution_count": null,
   "metadata": {
    "colab": {
     "base_uri": "https://localhost:8080/",
     "height": 206
    },
    "id": "Fi8ZcDpgamZH",
    "outputId": "1b2b0071-2268-4f2b-eabe-286b444920cc"
   },
   "outputs": [],
   "source": [
    "travel_train.tail()"
   ]
  },
  {
   "cell_type": "code",
   "execution_count": null,
   "metadata": {
    "colab": {
     "base_uri": "https://localhost:8080/"
    },
    "id": "YBG9bhEOatcu",
    "outputId": "a184796f-8ea7-4aed-8ee3-27ab9c49453f"
   },
   "outputs": [],
   "source": [
    "travel_train.info()"
   ]
  },
  {
   "cell_type": "markdown",
   "metadata": {
    "id": "79FidEda4s_u"
   },
   "source": [
    "**Merging Data Frames**"
   ]
  },
  {
   "cell_type": "code",
   "execution_count": null,
   "metadata": {
    "id": "hYWwk7-XYLHz"
   },
   "outputs": [],
   "source": [
    "df = travel_train.merge(survey_train, how='outer', on= 'ID', indicator= True)"
   ]
  },
  {
   "cell_type": "code",
   "execution_count": null,
   "metadata": {
    "colab": {
     "base_uri": "https://localhost:8080/",
     "height": 644
    },
    "id": "PsnmxkJs463n",
    "outputId": "8bdb3c4f-0fde-464f-c758-b32777d8f899"
   },
   "outputs": [],
   "source": [
    "df"
   ]
  },
  {
   "cell_type": "code",
   "execution_count": null,
   "metadata": {
    "id": "5iIAkq5_Tdla"
   },
   "outputs": [],
   "source": [
    "\n",
    "num_cols = df.describe().columns.tolist()\n",
    "cat_cols = df.describe(include='object').columns.tolist()"
   ]
  },
  {
   "cell_type": "code",
   "execution_count": null,
   "metadata": {
    "colab": {
     "base_uri": "https://localhost:8080/"
    },
    "id": "C0kFQ0v-TLrv",
    "outputId": "b938e77c-f81d-41d8-a80c-44eddb70ac3d"
   },
   "outputs": [],
   "source": [
    "df.isna().sum().sort_values(ascending=False)"
   ]
  },
  {
   "cell_type": "code",
   "execution_count": null,
   "metadata": {
    "id": "17jwieDHTPoq"
   },
   "outputs": [],
   "source": [
    "nona_df = df.copy()"
   ]
  },
  {
   "cell_type": "code",
   "execution_count": null,
   "metadata": {
    "id": "jAAz_cPGXVfm"
   },
   "outputs": [],
   "source": [
    "df=df.drop(['_merge','ID'],axis=1)"
   ]
  },
  {
   "cell_type": "code",
   "execution_count": null,
   "metadata": {
    "id": "UJoy85QikK-e"
   },
   "outputs": [],
   "source": [
    "def fill_nas_with_mode(df, col):\n",
    "    mode = df[col].mode().iloc[0]\n",
    "    df[col].fillna(mode, inplace=True)\n",
    "\n",
    "def fill_nas_with_median(df, col):\n",
    "    median = df[col].median()\n",
    "    df[col].fillna(median, inplace=True)\n",
    "\n",
    "for col in cat_cols:\n",
    "    fill_nas_with_mode(nona_df, col)\n",
    "\n",
    "for col in num_cols:\n",
    "    fill_nas_with_median(nona_df, col)\n"
   ]
  },
  {
   "cell_type": "code",
   "execution_count": null,
   "metadata": {
    "colab": {
     "base_uri": "https://localhost:8080/",
     "height": 270
    },
    "id": "1oNyDccgYogj",
    "outputId": "fae28ae3-48e0-4d7d-ef8b-30d8f3293fa4"
   },
   "outputs": [],
   "source": [
    "# Creating list of dummy columns\n",
    "nona_df.drop(columns=['ID','_merge'], inplace=True)\n",
    "dumm_df = pd.get_dummies(nona_df, drop_first=True)\n",
    "\n",
    "dumm_df.columns = dumm_df.columns.str.strip()\n",
    "dumm_df.columns = dumm_df.columns.str.replace(' ', '_')\n",
    "\n",
    "# scaling the data\n",
    "scaler = StandardScaler()\n",
    "scaled_df = pd.DataFrame(scaler.fit_transform(dumm_df), columns=dumm_df.columns)\n"
   ]
  },
  {
   "cell_type": "code",
   "execution_count": null,
   "metadata": {
    "colab": {
     "base_uri": "https://localhost:8080/",
     "height": 270
    },
    "id": "1dGtO1ItUlru",
    "outputId": "f132a4e4-5441-4671-f6ce-1e47c1d552c3"
   },
   "outputs": [],
   "source": [
    "scaled_df.head()"
   ]
  },
  {
   "cell_type": "code",
   "execution_count": null,
   "metadata": {
    "colab": {
     "base_uri": "https://localhost:8080/",
     "height": 270
    },
    "id": "Mumb8zohUle2",
    "outputId": "201ff9d1-4d15-41f3-9ee1-2009c8373504"
   },
   "outputs": [],
   "source": [
    "dumm_df.head()"
   ]
  },
  {
   "cell_type": "code",
   "execution_count": null,
   "metadata": {
    "id": "0DRDrrcYcsff"
   },
   "outputs": [],
   "source": [
    "Y= dumm_df.Overall_Experience\n",
    "X= dumm_df.drop(columns = ['Overall_Experience'])"
   ]
  },
  {
   "cell_type": "code",
   "execution_count": null,
   "metadata": {
    "id": "PClw7de2iuPe"
   },
   "outputs": [],
   "source": [
    "X_train, X_test, y_train, y_test = train_test_split(X, Y, test_size = 0.3, random_state = 1, stratify = Y)"
   ]
  },
  {
   "cell_type": "code",
   "execution_count": null,
   "metadata": {
    "id": "SVmNtI2niu94"
   },
   "outputs": [],
   "source": [
    "# Creating metric function \n",
    "def metrics_score(actual, predicted):\n",
    "    print(classification_report(actual, predicted))\n",
    "\n",
    "    cm = confusion_matrix(actual, predicted)\n",
    "    plt.figure(figsize=(8,5))\n",
    "    \n",
    "    sns.heatmap(cm, annot=True,  fmt='.2f', xticklabels=['Not Attrite', 'Attrite'], yticklabels=['Not Attrite', 'Attrite'])\n",
    "    plt.ylabel('Actual')\n",
    "    plt.xlabel('Predicted')\n",
    "    plt.show()"
   ]
  },
  {
   "cell_type": "markdown",
   "metadata": {
    "id": "bBhZckPnjWup"
   },
   "source": [
    "**Decision Tree**"
   ]
  },
  {
   "cell_type": "code",
   "execution_count": null,
   "metadata": {
    "colab": {
     "base_uri": "https://localhost:8080/",
     "height": 488
    },
    "id": "ICnnq_VAjuir",
    "outputId": "6825d968-a3a6-4fba-8c9e-0a97710a4356"
   },
   "outputs": [],
   "source": [
    "X_train"
   ]
  },
  {
   "cell_type": "code",
   "execution_count": null,
   "metadata": {
    "colab": {
     "base_uri": "https://localhost:8080/"
    },
    "id": "Dqm3nMuZjxep",
    "outputId": "23cac6d2-1c8b-4277-de65-7b2b6bbdcd3d"
   },
   "outputs": [],
   "source": [
    "y_train"
   ]
  },
  {
   "cell_type": "code",
   "execution_count": null,
   "metadata": {
    "id": "ib--EBZai9gk"
   },
   "outputs": [],
   "source": [
    "dt = DecisionTreeClassifier(class_weight = {0: 0.17, 1: 0.83}, random_state = 1)\n"
   ]
  },
  {
   "cell_type": "code",
   "execution_count": null,
   "metadata": {
    "colab": {
     "base_uri": "https://localhost:8080/"
    },
    "id": "HzComk8QivLr",
    "outputId": "11043498-f762-4c1e-c292-76e83a61e358"
   },
   "outputs": [],
   "source": [
    "dt.fit(X_train, y_train)"
   ]
  },
  {
   "cell_type": "code",
   "execution_count": null,
   "metadata": {
    "colab": {
     "base_uri": "https://localhost:8080/",
     "height": 490
    },
    "id": "8F80kyGP7_Ue",
    "outputId": "ad58c157-3885-45ae-9c9d-e256fa13ae16"
   },
   "outputs": [],
   "source": [
    "y_train_pred_dt = dt.predict(X_train)\n",
    "\n",
    "metrics_score(y_train, y_train_pred_dt)\n"
   ]
  },
  {
   "cell_type": "code",
   "execution_count": null,
   "metadata": {
    "colab": {
     "base_uri": "https://localhost:8080/",
     "height": 490
    },
    "id": "f-dXay63VCNV",
    "outputId": "72ff9a73-0215-4c63-9d67-8400533fe039"
   },
   "outputs": [],
   "source": [
    "y_test_pred_dt = dt.predict(X_test)\n",
    "\n",
    "metrics_score(y_test, y_test_pred_dt)\n"
   ]
  },
  {
   "cell_type": "code",
   "execution_count": null,
   "metadata": {
    "colab": {
     "base_uri": "https://localhost:8080/",
     "height": 786
    },
    "id": "Np0xESb4VCYM",
    "outputId": "89a88ac7-968c-4b22-bcac-90db7bb15509"
   },
   "outputs": [],
   "source": [
    "importances = dt.feature_importances_\n",
    "\n",
    "columns = X.columns\n",
    "\n",
    "importance_df = pd.DataFrame(importances, index = columns, columns = ['Importance']).sort_values(by = 'Importance', ascending = False)\n",
    "\n",
    "plt.figure(figsize = (13, 13))\n",
    "\n",
    "sns.barplot(importance_df.Importance,importance_df.index)\n"
   ]
  },
  {
   "cell_type": "code",
   "execution_count": null,
   "metadata": {
    "colab": {
     "base_uri": "https://localhost:8080/",
     "height": 253
    },
    "id": "DqivRyT0VCqb",
    "outputId": "a0d64d99-1852-4577-f629-b8d584582688"
   },
   "outputs": [],
   "source": [
    "features = list(X.columns)\n",
    "\n",
    "plt.figure(figsize = (30, 20))\n",
    "\n",
    "tree.plot_tree(dt, max_depth = 4, feature_names = features, filled = True, fontsize = 12, node_ids = True, class_names = True)\n",
    "\n",
    "plt.show()\n"
   ]
  },
  {
   "cell_type": "markdown",
   "metadata": {
    "id": "yjvoB-kuVw_E"
   },
   "source": [
    "**Using Random Forest**"
   ]
  },
  {
   "cell_type": "code",
   "execution_count": null,
   "metadata": {
    "colab": {
     "base_uri": "https://localhost:8080/"
    },
    "id": "PX_DoxhbVC8f",
    "outputId": "e7b243ab-de31-4de5-eb76-cf835bac013e"
   },
   "outputs": [],
   "source": [
    "# Fitting the Random Forest classifier on the training data\n",
    "rf_estimator = RandomForestClassifier(class_weight = {0: 0.17, 1: 0.83}, random_state = 1)\n",
    "\n",
    "rf_estimator.fit(X_train, y_train)\n"
   ]
  },
  {
   "cell_type": "code",
   "execution_count": null,
   "metadata": {
    "colab": {
     "base_uri": "https://localhost:8080/",
     "height": 490
    },
    "id": "acj3knJ7VmoW",
    "outputId": "9c0c06bd-508a-47dc-ab83-7221c9142d28"
   },
   "outputs": [],
   "source": [
    "# Checking performance on the training data\n",
    "y_pred_train_rf = rf_estimator.predict(X_train)\n",
    "\n",
    "metrics_score(y_train, y_pred_train_rf)\n"
   ]
  },
  {
   "cell_type": "code",
   "execution_count": null,
   "metadata": {
    "colab": {
     "base_uri": "https://localhost:8080/",
     "height": 490
    },
    "id": "yqzkpy04VnNl",
    "outputId": "ccd81a55-eafb-48ed-aff4-32ca53900c82"
   },
   "outputs": [],
   "source": [
    "# Checking performance on the testing data\n",
    "y_pred_test_rf = rf_estimator.predict(X_test)\n",
    "\n",
    "metrics_score(y_test, y_pred_test_rf)\n"
   ]
  },
  {
   "cell_type": "code",
   "execution_count": null,
   "metadata": {
    "colab": {
     "base_uri": "https://localhost:8080/",
     "height": 786
    },
    "id": "bIkJjBOhVnK0",
    "outputId": "dea8aa97-a652-4940-e8f4-bb3ee9220be0"
   },
   "outputs": [],
   "source": [
    "importances = rf_estimator.feature_importances_\n",
    "\n",
    "columns = X.columns\n",
    "\n",
    "importance_df = pd.DataFrame(importances, index = columns, columns = ['Importance']).sort_values(by = 'Importance', ascending = False)\n",
    "\n",
    "plt.figure(figsize = (13, 13))\n",
    "\n",
    "sns.barplot(importance_df.Importance, importance_df.index)\n"
   ]
  },
  {
   "cell_type": "markdown",
   "metadata": {
    "id": "VMgoLAL_V8dO"
   },
   "source": [
    "SVM with RBF kernel has good recall among all the models and Random Forest, has less recall compared to SVM but F1 Score, Accuracy and Precision values are good in case of Random Forest. It may be possible to further try and tune the model, and the HR department can use this model to predict whether an employee is at risk of attrition or not.\n"
   ]
  }
 ],
 "metadata": {
  "colab": {
   "authorship_tag": "ABX9TyPRaX9mEXhCQM2GgrUh0tAk",
   "include_colab_link": true,
   "name": "Copy of Decision Tree - Hackathon",
   "provenance": []
  },
  "kernelspec": {
   "display_name": "Python 3 (ipykernel)",
   "language": "python",
   "name": "python3"
  },
  "language_info": {
   "codemirror_mode": {
    "name": "ipython",
    "version": 3
   },
   "file_extension": ".py",
   "mimetype": "text/x-python",
   "name": "python",
   "nbconvert_exporter": "python",
   "pygments_lexer": "ipython3",
   "version": "3.9.12"
  }
 },
 "nbformat": 4,
 "nbformat_minor": 1
}
