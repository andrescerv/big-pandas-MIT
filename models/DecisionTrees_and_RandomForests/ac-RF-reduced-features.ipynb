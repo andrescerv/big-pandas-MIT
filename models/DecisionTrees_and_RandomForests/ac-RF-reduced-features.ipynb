{
 "cells": [
  {
   "cell_type": "code",
   "execution_count": 2,
   "id": "966ecbd4",
   "metadata": {},
   "outputs": [],
   "source": [
    "# Libraries to help with reading and manipulating data\n",
    "import pandas as pd\n",
    "import numpy as np\n",
    "\n",
    "# Libaries to help with data visualization\n",
    "import matplotlib.pyplot as plt\n",
    "import seaborn as sns\n",
    "\n",
    "# To tune model, get different metric scores, and split data\n",
    "from sklearn.metrics import (\n",
    "    f1_score,\n",
    "    accuracy_score,\n",
    "    recall_score,\n",
    "    precision_score,\n",
    "    confusion_matrix,\n",
    "    roc_auc_score,\n",
    "    plot_confusion_matrix,\n",
    "    classification_report,\n",
    "    precision_recall_curve\n",
    ")\n",
    "from sklearn import metrics\n",
    "\n",
    "from sklearn.model_selection import train_test_split, StratifiedKFold, cross_val_score\n",
    "\n",
    "# To be used for data scaling and one hot encoding\n",
    "from sklearn.preprocessing import StandardScaler, MinMaxScaler, OneHotEncoder\n",
    "\n",
    "# To impute missing values\n",
    "from sklearn.impute import SimpleImputer\n",
    "\n",
    "# To build classification models \n",
    "from sklearn.tree import DecisionTreeClassifier\n",
    "from sklearn.ensemble import RandomForestClassifier\n",
    "from sklearn.linear_model import LogisticRegression\n",
    "\n",
    "# For tuning the model\n",
    "from sklearn.model_selection import GridSearchCV\n",
    "from sklearn.model_selection import RandomizedSearchCV\n",
    "\n",
    "# To supress warnings\n",
    "import warnings\n",
    "warnings.filterwarnings(\"ignore\")"
   ]
  },
  {
   "cell_type": "code",
   "execution_count": 3,
   "id": "7166765d",
   "metadata": {},
   "outputs": [
    {
     "name": "stdout",
     "output_type": "stream",
     "text": [
      "(94379, 9)\n",
      "(94379, 17)\n",
      "(35602, 9)\n",
      "(35602, 16)\n"
     ]
    }
   ],
   "source": [
    "# Reading files\n",
    "path = '../../datasets/'\n",
    "\n",
    "travel_train = pd.read_csv(path + 'Traveldata_train.csv')\n",
    "survey_train = pd.read_csv(path + 'Surveydata_train.csv')\n",
    "travel_test = pd.read_csv(path + 'Traveldata_test.csv')\n",
    "survey_test = pd.read_csv(path + 'Surveydata_test.csv')\n",
    "\n",
    "datasets = [travel_train, survey_train, travel_test, survey_test]\n",
    "\n",
    "for df in datasets:\n",
    "    print(df.shape)"
   ]
  },
  {
   "cell_type": "code",
   "execution_count": 31,
   "id": "92333706",
   "metadata": {},
   "outputs": [],
   "source": [
    "# UDFs to clean input missing values and creating dummy variables\n",
    "def fill_nas_with_mode(df, col):\n",
    "    mode = df[col].mode().iloc[0]\n",
    "    df[col].fillna(mode, inplace=True)\n",
    "\n",
    "def fill_nas_with_median(df, col):\n",
    "    median = df[col].median()\n",
    "    df[col].fillna(median, inplace=True)\n",
    "    \n",
    "def merge_dfs(travel_df, survey_df):\n",
    "    result_df = travel_df.merge(survey_df, how='outer', on='ID', indicator=True)\n",
    "    return result_df\n",
    "    \n",
    "def cleaning_df(df):\n",
    "    # segregating categorical columns from numerical columns\n",
    "    cat_cols = df.describe(include='object').columns.tolist()\n",
    "    num_cols = df.describe().columns.tolist()\n",
    "    \n",
    "    # filling missing values\n",
    "    for col in cat_cols:\n",
    "        fill_nas_with_mode(df, col)\n",
    "\n",
    "    for col in num_cols:\n",
    "        fill_nas_with_median(df, col)\n",
    "        \n",
    "    # getting dummies\n",
    "    dumm_df = df.drop(columns=['ID','_merge'])\n",
    "    dumm_df = pd.get_dummies(dumm_df, drop_first=True)\n",
    "    \n",
    "    # editing names of dummy columns\n",
    "    dumm_df.columns = dumm_df.columns.str.strip()\n",
    "    dumm_df.columns = dumm_df.columns.str.replace(' ', '_')\n",
    "    \n",
    "    return dumm_df"
   ]
  },
  {
   "cell_type": "code",
   "execution_count": 32,
   "id": "437cda85",
   "metadata": {},
   "outputs": [],
   "source": [
    "train_df = merge_dfs(travel_train,survey_train)\n",
    "test_df = merge_dfs(travel_test,survey_test)"
   ]
  },
  {
   "cell_type": "code",
   "execution_count": 33,
   "id": "48363181",
   "metadata": {},
   "outputs": [],
   "source": [
    "num_cols = test_df.describe().columns.tolist() # extracting num cols with test_df since there's no Overall_Experience\n",
    "cat_cols = test_df.describe(include='object').columns.tolist()"
   ]
  },
  {
   "cell_type": "markdown",
   "id": "0f49d55c",
   "metadata": {},
   "source": [
    "# reducing categorical variables"
   ]
  },
  {
   "cell_type": "code",
   "execution_count": 12,
   "id": "06297849",
   "metadata": {},
   "outputs": [],
   "source": [
    "def cat_reducer(df):\n",
    "    '''Reduced the categories of some categorical columns.'''\n",
    "    \n",
    "    reducer = {'Excellent':'positive',\n",
    "                'Good':'positive',\n",
    "                'Acceptable':'positive',\n",
    "                'Needs Improvement':'negative',\n",
    "                'Poor':'negative',\n",
    "                'Extremely Poor':'negative'}\n",
    "\n",
    "    platform_reducer = {'Very Convenient':'positive',\n",
    "                        'Convenient':'positive',\n",
    "                        'Manageable':'neutral',\n",
    "                        'Needs Improvement':'negative',\n",
    "                        'Inconvenient':'negative'}\n",
    "\n",
    "    for col in cat_cols:\n",
    "        \n",
    "        # skipping cat cols that don't need reducing.\n",
    "        if col in ['Gender','Customer_Type','Type_Travel','Travel_Class','Seat_Class']:\n",
    "            pass\n",
    "        \n",
    "        elif col == 'Platform_Location':      \n",
    "            df[col] = df[col].map(platform_reducer)\n",
    "            \n",
    "        else: \n",
    "            df[col] = df[col].map(reducer)"
   ]
  },
  {
   "cell_type": "code",
   "execution_count": 13,
   "id": "c49246d7",
   "metadata": {},
   "outputs": [
    {
     "data": {
      "text/html": [
       "<div>\n",
       "<style scoped>\n",
       "    .dataframe tbody tr th:only-of-type {\n",
       "        vertical-align: middle;\n",
       "    }\n",
       "\n",
       "    .dataframe tbody tr th {\n",
       "        vertical-align: top;\n",
       "    }\n",
       "\n",
       "    .dataframe thead th {\n",
       "        text-align: right;\n",
       "    }\n",
       "</style>\n",
       "<table border=\"1\" class=\"dataframe\">\n",
       "  <thead>\n",
       "    <tr style=\"text-align: right;\">\n",
       "      <th></th>\n",
       "      <th>ID</th>\n",
       "      <th>Gender</th>\n",
       "      <th>Customer_Type</th>\n",
       "      <th>Age</th>\n",
       "      <th>Type_Travel</th>\n",
       "      <th>Travel_Class</th>\n",
       "      <th>Travel_Distance</th>\n",
       "      <th>Departure_Delay_in_Mins</th>\n",
       "      <th>Arrival_Delay_in_Mins</th>\n",
       "      <th>Overall_Experience</th>\n",
       "      <th>...</th>\n",
       "      <th>Onboard_Entertainment</th>\n",
       "      <th>Online_Support</th>\n",
       "      <th>Ease_of_Online_Booking</th>\n",
       "      <th>Onboard_Service</th>\n",
       "      <th>Legroom</th>\n",
       "      <th>Baggage_Handling</th>\n",
       "      <th>CheckIn_Service</th>\n",
       "      <th>Cleanliness</th>\n",
       "      <th>Online_Boarding</th>\n",
       "      <th>_merge</th>\n",
       "    </tr>\n",
       "  </thead>\n",
       "  <tbody>\n",
       "    <tr>\n",
       "      <th>0</th>\n",
       "      <td>98800001</td>\n",
       "      <td>Female</td>\n",
       "      <td>Loyal Customer</td>\n",
       "      <td>52.0</td>\n",
       "      <td>NaN</td>\n",
       "      <td>Business</td>\n",
       "      <td>272</td>\n",
       "      <td>0.0</td>\n",
       "      <td>5.0</td>\n",
       "      <td>0</td>\n",
       "      <td>...</td>\n",
       "      <td>negative</td>\n",
       "      <td>positive</td>\n",
       "      <td>negative</td>\n",
       "      <td>negative</td>\n",
       "      <td>positive</td>\n",
       "      <td>negative</td>\n",
       "      <td>positive</td>\n",
       "      <td>negative</td>\n",
       "      <td>negative</td>\n",
       "      <td>both</td>\n",
       "    </tr>\n",
       "    <tr>\n",
       "      <th>1</th>\n",
       "      <td>98800002</td>\n",
       "      <td>Male</td>\n",
       "      <td>Loyal Customer</td>\n",
       "      <td>48.0</td>\n",
       "      <td>Personal Travel</td>\n",
       "      <td>Eco</td>\n",
       "      <td>2200</td>\n",
       "      <td>9.0</td>\n",
       "      <td>0.0</td>\n",
       "      <td>0</td>\n",
       "      <td>...</td>\n",
       "      <td>negative</td>\n",
       "      <td>positive</td>\n",
       "      <td>positive</td>\n",
       "      <td>positive</td>\n",
       "      <td>negative</td>\n",
       "      <td>negative</td>\n",
       "      <td>negative</td>\n",
       "      <td>positive</td>\n",
       "      <td>positive</td>\n",
       "      <td>both</td>\n",
       "    </tr>\n",
       "    <tr>\n",
       "      <th>2</th>\n",
       "      <td>98800003</td>\n",
       "      <td>Female</td>\n",
       "      <td>Loyal Customer</td>\n",
       "      <td>43.0</td>\n",
       "      <td>Business Travel</td>\n",
       "      <td>Business</td>\n",
       "      <td>1061</td>\n",
       "      <td>77.0</td>\n",
       "      <td>119.0</td>\n",
       "      <td>1</td>\n",
       "      <td>...</td>\n",
       "      <td>positive</td>\n",
       "      <td>positive</td>\n",
       "      <td>positive</td>\n",
       "      <td>positive</td>\n",
       "      <td>positive</td>\n",
       "      <td>positive</td>\n",
       "      <td>positive</td>\n",
       "      <td>positive</td>\n",
       "      <td>positive</td>\n",
       "      <td>both</td>\n",
       "    </tr>\n",
       "    <tr>\n",
       "      <th>3</th>\n",
       "      <td>98800004</td>\n",
       "      <td>Female</td>\n",
       "      <td>Loyal Customer</td>\n",
       "      <td>44.0</td>\n",
       "      <td>Business Travel</td>\n",
       "      <td>Business</td>\n",
       "      <td>780</td>\n",
       "      <td>13.0</td>\n",
       "      <td>18.0</td>\n",
       "      <td>0</td>\n",
       "      <td>...</td>\n",
       "      <td>negative</td>\n",
       "      <td>positive</td>\n",
       "      <td>positive</td>\n",
       "      <td>positive</td>\n",
       "      <td>positive</td>\n",
       "      <td>positive</td>\n",
       "      <td>positive</td>\n",
       "      <td>positive</td>\n",
       "      <td>positive</td>\n",
       "      <td>both</td>\n",
       "    </tr>\n",
       "    <tr>\n",
       "      <th>4</th>\n",
       "      <td>98800005</td>\n",
       "      <td>Female</td>\n",
       "      <td>Loyal Customer</td>\n",
       "      <td>50.0</td>\n",
       "      <td>Business Travel</td>\n",
       "      <td>Business</td>\n",
       "      <td>1981</td>\n",
       "      <td>0.0</td>\n",
       "      <td>0.0</td>\n",
       "      <td>1</td>\n",
       "      <td>...</td>\n",
       "      <td>positive</td>\n",
       "      <td>positive</td>\n",
       "      <td>positive</td>\n",
       "      <td>positive</td>\n",
       "      <td>positive</td>\n",
       "      <td>positive</td>\n",
       "      <td>positive</td>\n",
       "      <td>positive</td>\n",
       "      <td>positive</td>\n",
       "      <td>both</td>\n",
       "    </tr>\n",
       "  </tbody>\n",
       "</table>\n",
       "<p>5 rows × 26 columns</p>\n",
       "</div>"
      ],
      "text/plain": [
       "         ID  Gender   Customer_Type   Age      Type_Travel Travel_Class  \\\n",
       "0  98800001  Female  Loyal Customer  52.0              NaN     Business   \n",
       "1  98800002    Male  Loyal Customer  48.0  Personal Travel          Eco   \n",
       "2  98800003  Female  Loyal Customer  43.0  Business Travel     Business   \n",
       "3  98800004  Female  Loyal Customer  44.0  Business Travel     Business   \n",
       "4  98800005  Female  Loyal Customer  50.0  Business Travel     Business   \n",
       "\n",
       "   Travel_Distance  Departure_Delay_in_Mins  Arrival_Delay_in_Mins  \\\n",
       "0              272                      0.0                    5.0   \n",
       "1             2200                      9.0                    0.0   \n",
       "2             1061                     77.0                  119.0   \n",
       "3              780                     13.0                   18.0   \n",
       "4             1981                      0.0                    0.0   \n",
       "\n",
       "   Overall_Experience  ... Onboard_Entertainment Online_Support  \\\n",
       "0                   0  ...              negative       positive   \n",
       "1                   0  ...              negative       positive   \n",
       "2                   1  ...              positive       positive   \n",
       "3                   0  ...              negative       positive   \n",
       "4                   1  ...              positive       positive   \n",
       "\n",
       "  Ease_of_Online_Booking Onboard_Service   Legroom Baggage_Handling  \\\n",
       "0               negative        negative  positive         negative   \n",
       "1               positive        positive  negative         negative   \n",
       "2               positive        positive  positive         positive   \n",
       "3               positive        positive  positive         positive   \n",
       "4               positive        positive  positive         positive   \n",
       "\n",
       "  CheckIn_Service Cleanliness Online_Boarding _merge  \n",
       "0        positive    negative        negative   both  \n",
       "1        negative    positive        positive   both  \n",
       "2        positive    positive        positive   both  \n",
       "3        positive    positive        positive   both  \n",
       "4        positive    positive        positive   both  \n",
       "\n",
       "[5 rows x 26 columns]"
      ]
     },
     "execution_count": 13,
     "metadata": {},
     "output_type": "execute_result"
    }
   ],
   "source": [
    "simple_train_df = train_df.copy()\n",
    "\n",
    "cat_reducer(simple_train_df)\n",
    "simple_train_df.head()"
   ]
  },
  {
   "cell_type": "code",
   "execution_count": 14,
   "id": "dd578065",
   "metadata": {},
   "outputs": [
    {
     "data": {
      "text/html": [
       "<div>\n",
       "<style scoped>\n",
       "    .dataframe tbody tr th:only-of-type {\n",
       "        vertical-align: middle;\n",
       "    }\n",
       "\n",
       "    .dataframe tbody tr th {\n",
       "        vertical-align: top;\n",
       "    }\n",
       "\n",
       "    .dataframe thead th {\n",
       "        text-align: right;\n",
       "    }\n",
       "</style>\n",
       "<table border=\"1\" class=\"dataframe\">\n",
       "  <thead>\n",
       "    <tr style=\"text-align: right;\">\n",
       "      <th></th>\n",
       "      <th>ID</th>\n",
       "      <th>Gender</th>\n",
       "      <th>Customer_Type</th>\n",
       "      <th>Age</th>\n",
       "      <th>Type_Travel</th>\n",
       "      <th>Travel_Class</th>\n",
       "      <th>Travel_Distance</th>\n",
       "      <th>Departure_Delay_in_Mins</th>\n",
       "      <th>Arrival_Delay_in_Mins</th>\n",
       "      <th>Seat_Comfort</th>\n",
       "      <th>...</th>\n",
       "      <th>Onboard_Entertainment</th>\n",
       "      <th>Online_Support</th>\n",
       "      <th>Ease_of_Online_Booking</th>\n",
       "      <th>Onboard_Service</th>\n",
       "      <th>Legroom</th>\n",
       "      <th>Baggage_Handling</th>\n",
       "      <th>CheckIn_Service</th>\n",
       "      <th>Cleanliness</th>\n",
       "      <th>Online_Boarding</th>\n",
       "      <th>_merge</th>\n",
       "    </tr>\n",
       "  </thead>\n",
       "  <tbody>\n",
       "    <tr>\n",
       "      <th>0</th>\n",
       "      <td>99900001</td>\n",
       "      <td>Female</td>\n",
       "      <td>NaN</td>\n",
       "      <td>36.0</td>\n",
       "      <td>Business Travel</td>\n",
       "      <td>Business</td>\n",
       "      <td>532</td>\n",
       "      <td>0.0</td>\n",
       "      <td>0.0</td>\n",
       "      <td>positive</td>\n",
       "      <td>...</td>\n",
       "      <td>positive</td>\n",
       "      <td>positive</td>\n",
       "      <td>positive</td>\n",
       "      <td>positive</td>\n",
       "      <td>positive</td>\n",
       "      <td>positive</td>\n",
       "      <td>positive</td>\n",
       "      <td>positive</td>\n",
       "      <td>negative</td>\n",
       "      <td>both</td>\n",
       "    </tr>\n",
       "    <tr>\n",
       "      <th>1</th>\n",
       "      <td>99900002</td>\n",
       "      <td>Female</td>\n",
       "      <td>Disloyal Customer</td>\n",
       "      <td>21.0</td>\n",
       "      <td>Business Travel</td>\n",
       "      <td>Business</td>\n",
       "      <td>1425</td>\n",
       "      <td>9.0</td>\n",
       "      <td>28.0</td>\n",
       "      <td>negative</td>\n",
       "      <td>...</td>\n",
       "      <td>negative</td>\n",
       "      <td>positive</td>\n",
       "      <td>positive</td>\n",
       "      <td>positive</td>\n",
       "      <td>positive</td>\n",
       "      <td>positive</td>\n",
       "      <td>positive</td>\n",
       "      <td>positive</td>\n",
       "      <td>positive</td>\n",
       "      <td>both</td>\n",
       "    </tr>\n",
       "    <tr>\n",
       "      <th>2</th>\n",
       "      <td>99900003</td>\n",
       "      <td>Male</td>\n",
       "      <td>Loyal Customer</td>\n",
       "      <td>60.0</td>\n",
       "      <td>Business Travel</td>\n",
       "      <td>Business</td>\n",
       "      <td>2832</td>\n",
       "      <td>0.0</td>\n",
       "      <td>0.0</td>\n",
       "      <td>positive</td>\n",
       "      <td>...</td>\n",
       "      <td>positive</td>\n",
       "      <td>positive</td>\n",
       "      <td>negative</td>\n",
       "      <td>negative</td>\n",
       "      <td>negative</td>\n",
       "      <td>negative</td>\n",
       "      <td>positive</td>\n",
       "      <td>negative</td>\n",
       "      <td>positive</td>\n",
       "      <td>both</td>\n",
       "    </tr>\n",
       "    <tr>\n",
       "      <th>3</th>\n",
       "      <td>99900004</td>\n",
       "      <td>Female</td>\n",
       "      <td>Loyal Customer</td>\n",
       "      <td>29.0</td>\n",
       "      <td>Personal Travel</td>\n",
       "      <td>Eco</td>\n",
       "      <td>1352</td>\n",
       "      <td>0.0</td>\n",
       "      <td>0.0</td>\n",
       "      <td>positive</td>\n",
       "      <td>...</td>\n",
       "      <td>positive</td>\n",
       "      <td>positive</td>\n",
       "      <td>negative</td>\n",
       "      <td>positive</td>\n",
       "      <td>negative</td>\n",
       "      <td>positive</td>\n",
       "      <td>positive</td>\n",
       "      <td>positive</td>\n",
       "      <td>negative</td>\n",
       "      <td>both</td>\n",
       "    </tr>\n",
       "    <tr>\n",
       "      <th>4</th>\n",
       "      <td>99900005</td>\n",
       "      <td>Male</td>\n",
       "      <td>Disloyal Customer</td>\n",
       "      <td>18.0</td>\n",
       "      <td>Business Travel</td>\n",
       "      <td>Business</td>\n",
       "      <td>1610</td>\n",
       "      <td>17.0</td>\n",
       "      <td>0.0</td>\n",
       "      <td>positive</td>\n",
       "      <td>...</td>\n",
       "      <td>positive</td>\n",
       "      <td>positive</td>\n",
       "      <td>positive</td>\n",
       "      <td>NaN</td>\n",
       "      <td>positive</td>\n",
       "      <td>positive</td>\n",
       "      <td>positive</td>\n",
       "      <td>positive</td>\n",
       "      <td>positive</td>\n",
       "      <td>both</td>\n",
       "    </tr>\n",
       "  </tbody>\n",
       "</table>\n",
       "<p>5 rows × 25 columns</p>\n",
       "</div>"
      ],
      "text/plain": [
       "         ID  Gender      Customer_Type   Age      Type_Travel Travel_Class  \\\n",
       "0  99900001  Female                NaN  36.0  Business Travel     Business   \n",
       "1  99900002  Female  Disloyal Customer  21.0  Business Travel     Business   \n",
       "2  99900003    Male     Loyal Customer  60.0  Business Travel     Business   \n",
       "3  99900004  Female     Loyal Customer  29.0  Personal Travel          Eco   \n",
       "4  99900005    Male  Disloyal Customer  18.0  Business Travel     Business   \n",
       "\n",
       "   Travel_Distance  Departure_Delay_in_Mins  Arrival_Delay_in_Mins  \\\n",
       "0              532                      0.0                    0.0   \n",
       "1             1425                      9.0                   28.0   \n",
       "2             2832                      0.0                    0.0   \n",
       "3             1352                      0.0                    0.0   \n",
       "4             1610                     17.0                    0.0   \n",
       "\n",
       "  Seat_Comfort  ... Onboard_Entertainment Online_Support  \\\n",
       "0     positive  ...              positive       positive   \n",
       "1     negative  ...              negative       positive   \n",
       "2     positive  ...              positive       positive   \n",
       "3     positive  ...              positive       positive   \n",
       "4     positive  ...              positive       positive   \n",
       "\n",
       "  Ease_of_Online_Booking Onboard_Service   Legroom Baggage_Handling  \\\n",
       "0               positive        positive  positive         positive   \n",
       "1               positive        positive  positive         positive   \n",
       "2               negative        negative  negative         negative   \n",
       "3               negative        positive  negative         positive   \n",
       "4               positive             NaN  positive         positive   \n",
       "\n",
       "  CheckIn_Service Cleanliness Online_Boarding _merge  \n",
       "0        positive    positive        negative   both  \n",
       "1        positive    positive        positive   both  \n",
       "2        positive    negative        positive   both  \n",
       "3        positive    positive        negative   both  \n",
       "4        positive    positive        positive   both  \n",
       "\n",
       "[5 rows x 25 columns]"
      ]
     },
     "execution_count": 14,
     "metadata": {},
     "output_type": "execute_result"
    }
   ],
   "source": [
    "simple_test_df = test_df.copy()\n",
    "\n",
    "cat_reducer(simple_test_df)\n",
    "simple_test_df.head()"
   ]
  },
  {
   "cell_type": "markdown",
   "id": "2d4081ee",
   "metadata": {},
   "source": [
    "# handling missing values"
   ]
  },
  {
   "cell_type": "code",
   "execution_count": 27,
   "id": "891851d2",
   "metadata": {},
   "outputs": [
    {
     "data": {
      "text/plain": [
       "Type_Travel                0.097755\n",
       "Customer_Type              0.094841\n",
       "Arrival_Time_Convenient    0.094619\n",
       "Catering                   0.092616\n",
       "Onboard_Service            0.080537\n",
       "Arrival_Delay_in_Mins      0.003783\n",
       "Baggage_Handling           0.001505\n",
       "Online_Support             0.000964\n",
       "Legroom                    0.000954\n",
       "CheckIn_Service            0.000816\n",
       "Gender                     0.000816\n",
       "Ease_of_Online_Booking     0.000773\n",
       "Seat_Comfort               0.000646\n",
       "Departure_Delay_in_Mins    0.000604\n",
       "Age                        0.000350\n",
       "Platform_Location          0.000339\n",
       "Onboard_Wifi_Service       0.000318\n",
       "Onboard_Entertainment      0.000191\n",
       "Online_Boarding            0.000064\n",
       "Cleanliness                0.000064\n",
       "ID                         0.000000\n",
       "Seat_Class                 0.000000\n",
       "Overall_Experience         0.000000\n",
       "Travel_Distance            0.000000\n",
       "Travel_Class               0.000000\n",
       "_merge                     0.000000\n",
       "dtype: float64"
      ]
     },
     "execution_count": 27,
     "metadata": {},
     "output_type": "execute_result"
    }
   ],
   "source": [
    "simple_train_df.isna().sum().sort_values(ascending=False) / simple_train_df.shape[0]"
   ]
  },
  {
   "cell_type": "code",
   "execution_count": 34,
   "id": "9c22c3d9",
   "metadata": {},
   "outputs": [],
   "source": [
    "for col in cat_cols:\n",
    "    \n",
    "    # create a new category if 5% or more of the values in that column are missing\n",
    "    if simple_train_df[col].isna().sum() / simple_train_df.shape[0] > 0.05:\n",
    "        simple_train_df[col] = simple_train_df[col].fillna('NAN')\n",
    "    else:\n",
    "        fill_nas_with_mode(simple_train_df, col)\n",
    "\n",
    "for col in num_cols:\n",
    "    fill_nas_with_median(simple_train_df, col)"
   ]
  },
  {
   "cell_type": "code",
   "execution_count": 37,
   "id": "51d08c88",
   "metadata": {},
   "outputs": [
    {
     "data": {
      "text/plain": [
       "ID                         0.0\n",
       "Gender                     0.0\n",
       "Online_Boarding            0.0\n",
       "Cleanliness                0.0\n",
       "CheckIn_Service            0.0\n",
       "Baggage_Handling           0.0\n",
       "Legroom                    0.0\n",
       "Onboard_Service            0.0\n",
       "Ease_of_Online_Booking     0.0\n",
       "Online_Support             0.0\n",
       "Onboard_Entertainment      0.0\n",
       "Onboard_Wifi_Service       0.0\n",
       "Platform_Location          0.0\n",
       "Catering                   0.0\n",
       "Arrival_Time_Convenient    0.0\n",
       "Seat_Class                 0.0\n",
       "Seat_Comfort               0.0\n",
       "Overall_Experience         0.0\n",
       "Arrival_Delay_in_Mins      0.0\n",
       "Departure_Delay_in_Mins    0.0\n",
       "Travel_Distance            0.0\n",
       "Travel_Class               0.0\n",
       "Type_Travel                0.0\n",
       "Age                        0.0\n",
       "Customer_Type              0.0\n",
       "_merge                     0.0\n",
       "dtype: float64"
      ]
     },
     "execution_count": 37,
     "metadata": {},
     "output_type": "execute_result"
    }
   ],
   "source": [
    "simple_train_df.isna().sum().sort_values(ascending=False) / simple_train_df.shape[0]"
   ]
  },
  {
   "cell_type": "code",
   "execution_count": 38,
   "id": "8e4b4c24",
   "metadata": {},
   "outputs": [
    {
     "data": {
      "text/plain": [
       "Type_Travel                0.096848\n",
       "Customer_Type              0.095023\n",
       "Catering                   0.094292\n",
       "Arrival_Time_Convenient    0.093394\n",
       "Onboard_Service            0.080670\n",
       "Arrival_Delay_in_Mins      0.003455\n",
       "Baggage_Handling           0.001124\n",
       "Gender                     0.000843\n",
       "Departure_Delay_in_Mins    0.000815\n",
       "Online_Support             0.000730\n",
       "Legroom                    0.000702\n",
       "Seat_Comfort               0.000618\n",
       "CheckIn_Service            0.000618\n",
       "Ease_of_Online_Booking     0.000506\n",
       "Platform_Location          0.000337\n",
       "Onboard_Wifi_Service       0.000337\n",
       "Age                        0.000309\n",
       "Onboard_Entertainment      0.000225\n",
       "Cleanliness                0.000056\n",
       "Online_Boarding            0.000056\n",
       "ID                         0.000000\n",
       "Seat_Class                 0.000000\n",
       "Travel_Distance            0.000000\n",
       "Travel_Class               0.000000\n",
       "_merge                     0.000000\n",
       "dtype: float64"
      ]
     },
     "execution_count": 38,
     "metadata": {},
     "output_type": "execute_result"
    }
   ],
   "source": [
    "simple_test_df.isna().sum().sort_values(ascending=False) / simple_test_df.shape[0]"
   ]
  },
  {
   "cell_type": "code",
   "execution_count": 39,
   "id": "68555b15",
   "metadata": {},
   "outputs": [],
   "source": [
    "for col in cat_cols:\n",
    "    \n",
    "    # create a new category if 5% or more of the values in that column are missing\n",
    "    if simple_test_df[col].isna().sum() / simple_test_df.shape[0] > 0.05:\n",
    "        simple_test_df[col] = simple_test_df[col].fillna('NAN')\n",
    "    else:\n",
    "        fill_nas_with_mode(simple_test_df, col)\n",
    "\n",
    "for col in num_cols:\n",
    "    fill_nas_with_median(simple_test_df, col)"
   ]
  },
  {
   "cell_type": "code",
   "execution_count": 40,
   "id": "45e80df1",
   "metadata": {},
   "outputs": [
    {
     "data": {
      "text/plain": [
       "ID                         0.0\n",
       "Platform_Location          0.0\n",
       "Online_Boarding            0.0\n",
       "Cleanliness                0.0\n",
       "CheckIn_Service            0.0\n",
       "Baggage_Handling           0.0\n",
       "Legroom                    0.0\n",
       "Onboard_Service            0.0\n",
       "Ease_of_Online_Booking     0.0\n",
       "Online_Support             0.0\n",
       "Onboard_Entertainment      0.0\n",
       "Onboard_Wifi_Service       0.0\n",
       "Catering                   0.0\n",
       "Gender                     0.0\n",
       "Arrival_Time_Convenient    0.0\n",
       "Seat_Class                 0.0\n",
       "Seat_Comfort               0.0\n",
       "Arrival_Delay_in_Mins      0.0\n",
       "Departure_Delay_in_Mins    0.0\n",
       "Travel_Distance            0.0\n",
       "Travel_Class               0.0\n",
       "Type_Travel                0.0\n",
       "Age                        0.0\n",
       "Customer_Type              0.0\n",
       "_merge                     0.0\n",
       "dtype: float64"
      ]
     },
     "execution_count": 40,
     "metadata": {},
     "output_type": "execute_result"
    }
   ],
   "source": [
    "simple_test_df.isna().sum().sort_values(ascending=False) / simple_test_df.shape[0]"
   ]
  },
  {
   "cell_type": "code",
   "execution_count": 43,
   "id": "e11a2836",
   "metadata": {},
   "outputs": [
    {
     "data": {
      "image/png": "[encoded data removed]",
      "text/plain": [
       "<Figure size 1080x1800 with 21 Axes>"
      ]
     },
     "metadata": {
      "needs_background": "light"
     },
     "output_type": "display_data"
    }
   ],
   "source": [
    "# assuming you have 21 columns:\n",
    "fig,axes = plt.subplots(nrows=7, ncols=3, figsize=(15,25), constrained_layout=True)\n",
    "\n",
    "# use `select_dtypes` to filter Object-type\n",
    "for col, ax in zip(simple_train_df.select_dtypes(include='O'), axes.ravel()):\n",
    "    simple_train_df[col].fillna('NA').value_counts().plot.bar(ax=ax)\n",
    "    ax.set_title(col)\n",
    "    \n",
    "plt.show()"
   ]
  },
  {
   "cell_type": "markdown",
   "id": "e273ff6a",
   "metadata": {},
   "source": [
    "# random forest"
   ]
  },
  {
   "cell_type": "markdown",
   "id": "ef6d06e4",
   "metadata": {},
   "source": [
    "## dummies"
   ]
  },
  {
   "cell_type": "code",
   "execution_count": 47,
   "id": "4f8eb249",
   "metadata": {},
   "outputs": [],
   "source": [
    "# getting dummies\n",
    "dumm_train_df = simple_train_df.drop(columns=['ID','_merge'])\n",
    "dumm_train_df = pd.get_dummies(dumm_train_df, drop_first=True)\n",
    "\n",
    "# editing names of dummy columns\n",
    "dumm_train_df.columns = dumm_train_df.columns.str.strip()\n",
    "dumm_train_df.columns = dumm_train_df.columns.str.replace(' ', '_')"
   ]
  },
  {
   "cell_type": "markdown",
   "id": "b6ef2660",
   "metadata": {},
   "source": [
    "## model"
   ]
  },
  {
   "cell_type": "code",
   "execution_count": 48,
   "id": "a74ce656",
   "metadata": {},
   "outputs": [],
   "source": [
    "X = dumm_train_df.drop(columns='Overall_Experience')\n",
    "y = dumm_train_df['Overall_Experience']"
   ]
  },
  {
   "cell_type": "code",
   "execution_count": 49,
   "id": "d5074a7a",
   "metadata": {},
   "outputs": [
    {
     "data": {
      "text/plain": [
       "1    0.546658\n",
       "0    0.453342\n",
       "Name: Overall_Experience, dtype: float64"
      ]
     },
     "execution_count": 49,
     "metadata": {},
     "output_type": "execute_result"
    }
   ],
   "source": [
    "y.value_counts(normalize=True)"
   ]
  },
  {
   "cell_type": "code",
   "execution_count": 50,
   "id": "15af4c33",
   "metadata": {},
   "outputs": [],
   "source": [
    "# Splitting the data\n",
    "X_train, X_test, y_train, y_test = train_test_split(X, y, test_size=0.3, random_state=1, stratify=y)"
   ]
  },
  {
   "cell_type": "code",
   "execution_count": 51,
   "id": "65cf1b6b",
   "metadata": {},
   "outputs": [
    {
     "data": {
      "text/plain": [
       "RandomForestClassifier(class_weight={0: 0.453, 1: 0.547}, random_state=1)"
      ]
     },
     "execution_count": 51,
     "metadata": {},
     "output_type": "execute_result"
    }
   ],
   "source": [
    "# Fitting the Random Forest classifier on the training data\n",
    "rf_estimator = RandomForestClassifier(class_weight={0: 0.453, 1: 0.547}, random_state=1)\n",
    "\n",
    "rf_estimator.fit(X_train, y_train)"
   ]
  },
  {
   "cell_type": "markdown",
   "id": "fdada7dc",
   "metadata": {},
   "source": [
    "## model evaluation\n"
   ]
  },
  {
   "cell_type": "code",
   "execution_count": 52,
   "id": "cbb9cfd5",
   "metadata": {},
   "outputs": [],
   "source": [
    "# Creating metric function \n",
    "def metrics_score(actual, predicted):\n",
    "    print(classification_report(actual, predicted))\n",
    "\n",
    "    cm = confusion_matrix(actual, predicted)\n",
    "    plt.figure(figsize=(8,5))\n",
    "    \n",
    "    sns.heatmap(cm, annot=True,  fmt='.2f', xticklabels=['Not Attrite', 'Attrite'], yticklabels=['Not Attrite', 'Attrite'])\n",
    "    plt.ylabel('Actual')\n",
    "    plt.xlabel('Predicted')\n",
    "    plt.show()\n"
   ]
  },
  {
   "cell_type": "code",
   "execution_count": 53,
   "id": "d80d3c74",
   "metadata": {},
   "outputs": [
    {
     "name": "stdout",
     "output_type": "stream",
     "text": [
      "              precision    recall  f1-score   support\n",
      "\n",
      "           0       1.00      1.00      1.00     29950\n",
      "           1       1.00      1.00      1.00     36115\n",
      "\n",
      "    accuracy                           1.00     66065\n",
      "   macro avg       1.00      1.00      1.00     66065\n",
      "weighted avg       1.00      1.00      1.00     66065\n",
      "\n"
     ]
    },
    {
     "data": {
      "image/png": "[encoded data removed]",
      "text/plain": [
       "<Figure size 576x360 with 2 Axes>"
      ]
     },
     "metadata": {
      "needs_background": "light"
     },
     "output_type": "display_data"
    }
   ],
   "source": [
    "# Checking performance on the training data\n",
    "y_pred_train_rf = rf_estimator.predict(X_train)\n",
    "\n",
    "metrics_score(y_train, y_pred_train_rf)"
   ]
  },
  {
   "cell_type": "code",
   "execution_count": 54,
   "id": "e4c83ec0",
   "metadata": {},
   "outputs": [
    {
     "name": "stdout",
     "output_type": "stream",
     "text": [
      "              precision    recall  f1-score   support\n",
      "\n",
      "           0       0.85      0.87      0.86     12836\n",
      "           1       0.89      0.88      0.88     15478\n",
      "\n",
      "    accuracy                           0.87     28314\n",
      "   macro avg       0.87      0.87      0.87     28314\n",
      "weighted avg       0.87      0.87      0.87     28314\n",
      "\n"
     ]
    },
    {
     "data": {
      "image/png": "[encoded data removed]",
      "text/plain": [
       "<Figure size 576x360 with 2 Axes>"
      ]
     },
     "metadata": {
      "needs_background": "light"
     },
     "output_type": "display_data"
    }
   ],
   "source": [
    "# Checking performance on the testing data\n",
    "y_pred_test_rf = rf_estimator.predict(X_test)\n",
    "\n",
    "metrics_score(y_test, y_pred_test_rf)"
   ]
  },
  {
   "cell_type": "markdown",
   "id": "c0d18a33",
   "metadata": {},
   "source": [
    "# Submission\n"
   ]
  },
  {
   "cell_type": "code",
   "execution_count": 56,
   "id": "03c534d5",
   "metadata": {},
   "outputs": [],
   "source": [
    "# getting dummies\n",
    "dumm_test_df = simple_test_df.drop(columns=['ID','_merge'])\n",
    "dumm_test_df = pd.get_dummies(dumm_test_df, drop_first=True)\n",
    "\n",
    "# editing names of dummy columns\n",
    "dumm_test_df.columns = dumm_test_df.columns.str.strip()\n",
    "dumm_test_df.columns = dumm_test_df.columns.str.replace(' ', '_')"
   ]
  },
  {
   "cell_type": "code",
   "execution_count": 59,
   "id": "0ac11e85",
   "metadata": {},
   "outputs": [],
   "source": [
    "X = dumm_test_df#.drop(columns='Overall_Experience')"
   ]
  },
  {
   "cell_type": "code",
   "execution_count": 60,
   "id": "4399deec",
   "metadata": {},
   "outputs": [],
   "source": [
    "preds = rf_estimator.predict(X)\n",
    "submmission_df = pd.DataFrame(data = preds, \n",
    "                  index = test_df.ID.values, \n",
    "                  columns = ['Overall_Experience'])\n",
    "\n",
    "submmission_df.rename_axis('ID', inplace=True)"
   ]
  },
  {
   "cell_type": "code",
   "execution_count": 61,
   "id": "09f602f7",
   "metadata": {},
   "outputs": [
    {
     "data": {
      "text/html": [
       "<div>\n",
       "<style scoped>\n",
       "    .dataframe tbody tr th:only-of-type {\n",
       "        vertical-align: middle;\n",
       "    }\n",
       "\n",
       "    .dataframe tbody tr th {\n",
       "        vertical-align: top;\n",
       "    }\n",
       "\n",
       "    .dataframe thead th {\n",
       "        text-align: right;\n",
       "    }\n",
       "</style>\n",
       "<table border=\"1\" class=\"dataframe\">\n",
       "  <thead>\n",
       "    <tr style=\"text-align: right;\">\n",
       "      <th></th>\n",
       "      <th>Overall_Experience</th>\n",
       "    </tr>\n",
       "    <tr>\n",
       "      <th>ID</th>\n",
       "      <th></th>\n",
       "    </tr>\n",
       "  </thead>\n",
       "  <tbody>\n",
       "    <tr>\n",
       "      <th>99900001</th>\n",
       "      <td>1</td>\n",
       "    </tr>\n",
       "    <tr>\n",
       "      <th>99900002</th>\n",
       "      <td>1</td>\n",
       "    </tr>\n",
       "    <tr>\n",
       "      <th>99900003</th>\n",
       "      <td>1</td>\n",
       "    </tr>\n",
       "    <tr>\n",
       "      <th>99900004</th>\n",
       "      <td>0</td>\n",
       "    </tr>\n",
       "    <tr>\n",
       "      <th>99900005</th>\n",
       "      <td>1</td>\n",
       "    </tr>\n",
       "    <tr>\n",
       "      <th>...</th>\n",
       "      <td>...</td>\n",
       "    </tr>\n",
       "    <tr>\n",
       "      <th>99935598</th>\n",
       "      <td>0</td>\n",
       "    </tr>\n",
       "    <tr>\n",
       "      <th>99935599</th>\n",
       "      <td>1</td>\n",
       "    </tr>\n",
       "    <tr>\n",
       "      <th>99935600</th>\n",
       "      <td>0</td>\n",
       "    </tr>\n",
       "    <tr>\n",
       "      <th>99935601</th>\n",
       "      <td>1</td>\n",
       "    </tr>\n",
       "    <tr>\n",
       "      <th>99935602</th>\n",
       "      <td>0</td>\n",
       "    </tr>\n",
       "  </tbody>\n",
       "</table>\n",
       "<p>35602 rows × 1 columns</p>\n",
       "</div>"
      ],
      "text/plain": [
       "          Overall_Experience\n",
       "ID                          \n",
       "99900001                   1\n",
       "99900002                   1\n",
       "99900003                   1\n",
       "99900004                   0\n",
       "99900005                   1\n",
       "...                      ...\n",
       "99935598                   0\n",
       "99935599                   1\n",
       "99935600                   0\n",
       "99935601                   1\n",
       "99935602                   0\n",
       "\n",
       "[35602 rows x 1 columns]"
      ]
     },
     "execution_count": 61,
     "metadata": {},
     "output_type": "execute_result"
    }
   ],
   "source": [
    "submmission_df"
   ]
  },
  {
   "cell_type": "code",
   "execution_count": 62,
   "id": "5aabff92",
   "metadata": {},
   "outputs": [],
   "source": [
    "submmission_df.to_csv('submission5.csv')"
   ]
  },
  {
   "cell_type": "code",
   "execution_count": null,
   "id": "79a9db82",
   "metadata": {},
   "outputs": [],
   "source": []
  }
 ],
 "metadata": {
  "kernelspec": {
   "display_name": "Python 3 (ipykernel)",
   "language": "python",
   "name": "python3"
  },
  "language_info": {
   "codemirror_mode": {
    "name": "ipython",
    "version": 3
   },
   "file_extension": ".py",
   "mimetype": "text/x-python",
   "name": "python",
   "nbconvert_exporter": "python",
   "pygments_lexer": "ipython3",
   "version": "3.9.12"
  }
 },
 "nbformat": 4,
 "nbformat_minor": 5
}
